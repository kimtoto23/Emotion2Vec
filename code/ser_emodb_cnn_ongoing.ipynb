{
  "nbformat": 4,
  "nbformat_minor": 0,
  "metadata": {
    "colab": {
      "provenance": []
    },
    "kernelspec": {
      "name": "python3",
      "display_name": "Python 3"
    },
    "language_info": {
      "name": "python"
    }
  },
  "cells": [
    {
      "cell_type": "code",
      "source": [
        "from google.colab import drive\n",
        "drive.mount('/content/drive')"
      ],
      "metadata": {
        "colab": {
          "base_uri": "https://localhost:8080/"
        },
        "id": "X5xI4adMtdIQ",
        "outputId": "2f632509-0d84-438d-f585-f760d6c9cfa2"
      },
      "execution_count": null,
      "outputs": [
        {
          "output_type": "stream",
          "name": "stdout",
          "text": [
            "Drive already mounted at /content/drive; to attempt to forcibly remount, call drive.mount(\"/content/drive\", force_remount=True).\n"
          ]
        }
      ]
    },
    {
      "cell_type": "code",
      "execution_count": null,
      "metadata": {
        "id": "8Ng78dDltTO9"
      },
      "outputs": [],
      "source": [
        "import librosa\n",
        "import os\n",
        "import pandas as pd\n",
        "import glob\n",
        "import numpy as np\n",
        "import soundfile\n",
        "from sklearn.model_selection import train_test_split"
      ]
    },
    {
      "cell_type": "code",
      "source": [
        "import librosa\n",
        "%matplotlib inline\n",
        "import matplotlib.pyplot as plt\n",
        "import librosa.display\n",
        "from IPython.display import Audio\n",
        "import numpy as np\n",
        "import tensorflow as tf\n",
        "from matplotlib.pyplot import specgram\n",
        "import pandas as pd\n",
        "from sklearn.metrics import confusion_matrix\n",
        "import IPython.display as ipd  # To play sound in the notebook\n",
        "import os # interface with underlying OS that python is running on\n",
        "import sys\n",
        "import warnings\n",
        "# ignore warnings\n",
        "if not sys.warnoptions:\n",
        "    warnings.simplefilter(\"ignore\")\n",
        "warnings.filterwarnings(\"ignore\", category=DeprecationWarning)\n",
        "from sklearn.model_selection import train_test_split\n",
        "from sklearn.preprocessing import LabelEncoder\n",
        "import tensorflow.keras\n",
        "from tensorflow.keras.models import Sequential\n",
        "from tensorflow.keras.layers import Conv1D, MaxPooling1D, AveragePooling1D\n",
        "from tensorflow.keras.layers import Input, Flatten, Dropout, Activation, BatchNormalization, Dense\n",
        "from tensorflow.keras.wrappers.scikit_learn import KerasClassifier\n",
        "from tensorflow.keras.wrappers.scikit_learn import KerasRegressor\n",
        "from tensorflow.keras.optimizers import SGD\n",
        "from tensorflow.keras.regularizers import l2\n",
        "import seaborn as sns\n",
        "from tensorflow.keras.utils import to_categorical\n",
        "from sklearn.metrics import classification_report\n",
        "\n",
        "from imblearn.over_sampling import SMOTE"
      ],
      "metadata": {
        "id": "JzoS03JP5_Nv"
      },
      "execution_count": null,
      "outputs": []
    },
    {
      "cell_type": "code",
      "source": [
        "def extract_feature(file_name,mfcc,chroma,mel,zcr,rmse):\n",
        "    with soundfile.SoundFile(file_name) as sound_file:\n",
        "        X = sound_file.read(dtype=\"float32\")\n",
        "        sample_rate=sound_file.samplerate\n",
        "        stft=np.abs(librosa.stft(X))\n",
        "        result=np.array([])\n",
        "        if mfcc:\n",
        "            mfccs=np.mean(librosa.feature.mfcc(y=X, sr=sample_rate, n_mfcc=40).T,axis=0)\n",
        "            result=np.hstack((result, mfccs))\n",
        "        if chroma:\n",
        "            chroma=np.mean(librosa.feature.chroma_stft(S=stft, sr=sample_rate).T,axis=0)\n",
        "            result=np.hstack((result, chroma))\n",
        "        if mel:\n",
        "            mel=np.mean(librosa.feature.melspectrogram(y=X, sr=sample_rate).T,axis=0)\n",
        "            result=np.hstack((result, mel))\n",
        "        if zcr:\n",
        "            zcr=np.mean(librosa.feature.zero_crossing_rate(y=X, frame_length=2048, hop_length=512).T,axis=0)\n",
        "            result=np.hstack((result, zcr))\n",
        "        if rmse:\n",
        "            rmse=np.mean(librosa.feature.rms(S=stft,frame_length=2048, hop_length=512, pad_mode='reflect').T,axis=0)\n",
        "            result=np.hstack((result, rmse))\n",
        "    return result"
      ],
      "metadata": {
        "id": "99-B5ZZRtnxZ"
      },
      "execution_count": null,
      "outputs": []
    },
    {
      "cell_type": "code",
      "source": [
        "#Load the data and extract features for each sound file\n",
        "def load_data(test_size=0.2):\n",
        "    x,y=[],[]\n",
        "    for file in glob.glob(\"/content/drive/MyDrive/SER_0817/data/EMODB/wav/*.wav\"):\n",
        "        file_name=os.path.basename(file)\n",
        "        emotion=file_name[5]\n",
        "        if emotion=='W':\n",
        "          e='anger'\n",
        "        if emotion=='L':\n",
        "          e='boredom'\n",
        "        if emotion=='E':\n",
        "          e='disgust'\n",
        "        if emotion=='A':\n",
        "          e='fear'\n",
        "        if emotion=='F':\n",
        "          e='happiness'\n",
        "        if emotion=='T':\n",
        "          e='sadness'\n",
        "        if emotion=='N':\n",
        "          e='neutral'\n",
        "        feature=extract_feature(file,mfcc=True,chroma=True,mel=True,zcr=True,rmse=True)\n",
        "        x.append(feature)\n",
        "        y.append(e)\n",
        "    return train_test_split(np.array(x), y, test_size=test_size, random_state = 777)"
      ],
      "metadata": {
        "id": "f8li_deBtpo5"
      },
      "execution_count": null,
      "outputs": []
    },
    {
      "cell_type": "code",
      "source": [
        "x_train,x_test,y_train,y_test=load_data(test_size=0.2)"
      ],
      "metadata": {
        "id": "kUFT3aqswzfK"
      },
      "execution_count": null,
      "outputs": []
    },
    {
      "cell_type": "code",
      "source": [
        "y_train.count('anger'), y_train.count('boredom'), y_train.count('disgust'), y_train.count('fear'), y_train.count('happiness'), y_train.count('sadness'), y_train.count('neutral')"
      ],
      "metadata": {
        "colab": {
          "base_uri": "https://localhost:8080/"
        },
        "id": "NnHz-SkzXG6E",
        "outputId": "9f1cdb04-bd94-4622-9294-4b710e9ab0b3"
      },
      "execution_count": null,
      "outputs": [
        {
          "output_type": "execute_result",
          "data": {
            "text/plain": [
              "(95, 65, 35, 55, 62, 49, 67)"
            ]
          },
          "metadata": {},
          "execution_count": 385
        }
      ]
    },
    {
      "cell_type": "code",
      "source": [
        "# from imblearn.under_sampling import RandomUnderSampler\n",
        "# from imblearn.over_sampling import RandomOverSampler\n",
        "# oversample = RandomOverSampler(sampling_strategy='minority')\n",
        "# X_over, y_over = oversample.fit_resample(x_train, Y_tra)\n",
        "from imblearn.over_sampling import SMOTE\n",
        "smote_sample = SMOTE(random_state=42)\n",
        "x_sm, y_sm = smote_sample.fit_resample(x_train, y_train)"
      ],
      "metadata": {
        "id": "X13x37TNCMlk"
      },
      "execution_count": null,
      "outputs": []
    },
    {
      "cell_type": "code",
      "source": [
        "y_sm.count('anger'), y_sm.count('boredom'), y_sm.count('disgust'), y_sm.count('fear'), y_sm.count('happiness'), y_sm.count('sadness'), y_sm.count('neutral')"
      ],
      "metadata": {
        "colab": {
          "base_uri": "https://localhost:8080/"
        },
        "id": "kRWHoZYnIVsV",
        "outputId": "05680adc-de14-4d4f-c076-34e3bf1e6cc2"
      },
      "execution_count": null,
      "outputs": [
        {
          "output_type": "execute_result",
          "data": {
            "text/plain": [
              "(95, 95, 95, 95, 95, 95, 95)"
            ]
          },
          "metadata": {},
          "execution_count": 387
        }
      ]
    },
    {
      "cell_type": "code",
      "source": [
        "#- 0.5 95+55+49=199 => 285=> 199 // -0.2 65+35=100 => 190 // 0.46 67 => 95 // 0.7 62 =>95"
      ],
      "metadata": {
        "id": "72LYeDGVHG3N"
      },
      "execution_count": null,
      "outputs": []
    },
    {
      "cell_type": "code",
      "source": [
        "len(x_sm), len(y_sm)"
      ],
      "metadata": {
        "colab": {
          "base_uri": "https://localhost:8080/"
        },
        "id": "a_QvnqVoZUts",
        "outputId": "8ea60cde-5f1b-4b71-b4a0-358aecdb061c"
      },
      "execution_count": null,
      "outputs": [
        {
          "output_type": "execute_result",
          "data": {
            "text/plain": [
              "(762, 762)"
            ]
          },
          "metadata": {},
          "execution_count": 390
        }
      ]
    },
    {
      "cell_type": "code",
      "source": [
        "len(x_train)"
      ],
      "metadata": {
        "colab": {
          "base_uri": "https://localhost:8080/"
        },
        "id": "9i4twyRl9_Cs",
        "outputId": "ce690911-2d83-42ac-b0f8-1de14c7f110a"
      },
      "execution_count": null,
      "outputs": [
        {
          "output_type": "execute_result",
          "data": {
            "text/plain": [
              "428"
            ]
          },
          "metadata": {},
          "execution_count": 356
        }
      ]
    },
    {
      "cell_type": "code",
      "source": [
        "x_train.shape, x_test.shape"
      ],
      "metadata": {
        "colab": {
          "base_uri": "https://localhost:8080/"
        },
        "id": "OWg3TQlHyOVt",
        "outputId": "34324b9e-f0f8-4f59-8b22-fb0c4ef69ab8"
      },
      "execution_count": null,
      "outputs": [
        {
          "output_type": "execute_result",
          "data": {
            "text/plain": [
              "((428, 182), (107, 182))"
            ]
          },
          "metadata": {},
          "execution_count": 97
        }
      ]
    },
    {
      "cell_type": "code",
      "source": [
        "y_sm.count('anger'), y_sm.count('boredom'), y_sm.count('disgust'), y_sm.count('fear'), y_sm.count('happiness'), y_sm.count('sadness'), y_sm.count('neutral')"
      ],
      "metadata": {
        "colab": {
          "base_uri": "https://localhost:8080/"
        },
        "id": "6D7-YRBQ4ibD",
        "outputId": "f71892a2-1466-4bdc-e640-a568c0041aa1"
      },
      "execution_count": null,
      "outputs": [
        {
          "output_type": "execute_result",
          "data": {
            "text/plain": [
              "(95, 95, 95, 55, 194, 49, 179)"
            ]
          },
          "metadata": {},
          "execution_count": 391
        }
      ]
    },
    {
      "cell_type": "code",
      "source": [
        "PAD_db = pd.read_csv('/content/drive/MyDrive/SER_0817/EMODB_cnn_lstm/PAD_data_7after_2anomal_2.csv')\n",
        "PAD_db = PAD_db.iloc[:,1:]\n",
        "PAD_db"
      ],
      "metadata": {
        "colab": {
          "base_uri": "https://localhost:8080/",
          "height": 269
        },
        "outputId": "5317aa12-fccd-47ea-d377-22b903473c5e",
        "id": "8IdOO26I6FdG"
      },
      "execution_count": null,
      "outputs": [
        {
          "output_type": "execute_result",
          "data": {
            "text/plain": [
              "           term         P         A         D\n",
              "0         anger -0.454444  0.551111  0.182222\n",
              "1       boredom -0.131875 -0.351250 -0.194375\n",
              "2       disgust -0.280667  0.275333  0.186667\n",
              "3  anxiety_fear -0.564615  0.436923 -0.359231\n",
              "4     happiness  0.703158  0.335263  0.418947\n",
              "5       sadness -0.586818 -0.137273 -0.325000\n",
              "6       neutral  0.462143 -0.045714 -0.080000"
            ],
            "text/html": [
              "\n",
              "  <div id=\"df-e23d5188-9181-4f56-93d6-36658bd442ae\" class=\"colab-df-container\">\n",
              "    <div>\n",
              "<style scoped>\n",
              "    .dataframe tbody tr th:only-of-type {\n",
              "        vertical-align: middle;\n",
              "    }\n",
              "\n",
              "    .dataframe tbody tr th {\n",
              "        vertical-align: top;\n",
              "    }\n",
              "\n",
              "    .dataframe thead th {\n",
              "        text-align: right;\n",
              "    }\n",
              "</style>\n",
              "<table border=\"1\" class=\"dataframe\">\n",
              "  <thead>\n",
              "    <tr style=\"text-align: right;\">\n",
              "      <th></th>\n",
              "      <th>term</th>\n",
              "      <th>P</th>\n",
              "      <th>A</th>\n",
              "      <th>D</th>\n",
              "    </tr>\n",
              "  </thead>\n",
              "  <tbody>\n",
              "    <tr>\n",
              "      <th>0</th>\n",
              "      <td>anger</td>\n",
              "      <td>-0.454444</td>\n",
              "      <td>0.551111</td>\n",
              "      <td>0.182222</td>\n",
              "    </tr>\n",
              "    <tr>\n",
              "      <th>1</th>\n",
              "      <td>boredom</td>\n",
              "      <td>-0.131875</td>\n",
              "      <td>-0.351250</td>\n",
              "      <td>-0.194375</td>\n",
              "    </tr>\n",
              "    <tr>\n",
              "      <th>2</th>\n",
              "      <td>disgust</td>\n",
              "      <td>-0.280667</td>\n",
              "      <td>0.275333</td>\n",
              "      <td>0.186667</td>\n",
              "    </tr>\n",
              "    <tr>\n",
              "      <th>3</th>\n",
              "      <td>anxiety_fear</td>\n",
              "      <td>-0.564615</td>\n",
              "      <td>0.436923</td>\n",
              "      <td>-0.359231</td>\n",
              "    </tr>\n",
              "    <tr>\n",
              "      <th>4</th>\n",
              "      <td>happiness</td>\n",
              "      <td>0.703158</td>\n",
              "      <td>0.335263</td>\n",
              "      <td>0.418947</td>\n",
              "    </tr>\n",
              "    <tr>\n",
              "      <th>5</th>\n",
              "      <td>sadness</td>\n",
              "      <td>-0.586818</td>\n",
              "      <td>-0.137273</td>\n",
              "      <td>-0.325000</td>\n",
              "    </tr>\n",
              "    <tr>\n",
              "      <th>6</th>\n",
              "      <td>neutral</td>\n",
              "      <td>0.462143</td>\n",
              "      <td>-0.045714</td>\n",
              "      <td>-0.080000</td>\n",
              "    </tr>\n",
              "  </tbody>\n",
              "</table>\n",
              "</div>\n",
              "    <div class=\"colab-df-buttons\">\n",
              "\n",
              "  <div class=\"colab-df-container\">\n",
              "    <button class=\"colab-df-convert\" onclick=\"convertToInteractive('df-e23d5188-9181-4f56-93d6-36658bd442ae')\"\n",
              "            title=\"Convert this dataframe to an interactive table.\"\n",
              "            style=\"display:none;\">\n",
              "\n",
              "  <svg xmlns=\"http://www.w3.org/2000/svg\" height=\"24px\" viewBox=\"0 -960 960 960\">\n",
              "    <path d=\"M120-120v-720h720v720H120Zm60-500h600v-160H180v160Zm220 220h160v-160H400v160Zm0 220h160v-160H400v160ZM180-400h160v-160H180v160Zm440 0h160v-160H620v160ZM180-180h160v-160H180v160Zm440 0h160v-160H620v160Z\"/>\n",
              "  </svg>\n",
              "    </button>\n",
              "\n",
              "  <style>\n",
              "    .colab-df-container {\n",
              "      display:flex;\n",
              "      gap: 12px;\n",
              "    }\n",
              "\n",
              "    .colab-df-convert {\n",
              "      background-color: #E8F0FE;\n",
              "      border: none;\n",
              "      border-radius: 50%;\n",
              "      cursor: pointer;\n",
              "      display: none;\n",
              "      fill: #1967D2;\n",
              "      height: 32px;\n",
              "      padding: 0 0 0 0;\n",
              "      width: 32px;\n",
              "    }\n",
              "\n",
              "    .colab-df-convert:hover {\n",
              "      background-color: #E2EBFA;\n",
              "      box-shadow: 0px 1px 2px rgba(60, 64, 67, 0.3), 0px 1px 3px 1px rgba(60, 64, 67, 0.15);\n",
              "      fill: #174EA6;\n",
              "    }\n",
              "\n",
              "    .colab-df-buttons div {\n",
              "      margin-bottom: 4px;\n",
              "    }\n",
              "\n",
              "    [theme=dark] .colab-df-convert {\n",
              "      background-color: #3B4455;\n",
              "      fill: #D2E3FC;\n",
              "    }\n",
              "\n",
              "    [theme=dark] .colab-df-convert:hover {\n",
              "      background-color: #434B5C;\n",
              "      box-shadow: 0px 1px 3px 1px rgba(0, 0, 0, 0.15);\n",
              "      filter: drop-shadow(0px 1px 2px rgba(0, 0, 0, 0.3));\n",
              "      fill: #FFFFFF;\n",
              "    }\n",
              "  </style>\n",
              "\n",
              "    <script>\n",
              "      const buttonEl =\n",
              "        document.querySelector('#df-e23d5188-9181-4f56-93d6-36658bd442ae button.colab-df-convert');\n",
              "      buttonEl.style.display =\n",
              "        google.colab.kernel.accessAllowed ? 'block' : 'none';\n",
              "\n",
              "      async function convertToInteractive(key) {\n",
              "        const element = document.querySelector('#df-e23d5188-9181-4f56-93d6-36658bd442ae');\n",
              "        const dataTable =\n",
              "          await google.colab.kernel.invokeFunction('convertToInteractive',\n",
              "                                                    [key], {});\n",
              "        if (!dataTable) return;\n",
              "\n",
              "        const docLinkHtml = 'Like what you see? Visit the ' +\n",
              "          '<a target=\"_blank\" href=https://colab.research.google.com/notebooks/data_table.ipynb>data table notebook</a>'\n",
              "          + ' to learn more about interactive tables.';\n",
              "        element.innerHTML = '';\n",
              "        dataTable['output_type'] = 'display_data';\n",
              "        await google.colab.output.renderOutput(dataTable, element);\n",
              "        const docLink = document.createElement('div');\n",
              "        docLink.innerHTML = docLinkHtml;\n",
              "        element.appendChild(docLink);\n",
              "      }\n",
              "    </script>\n",
              "  </div>\n",
              "\n",
              "\n",
              "<div id=\"df-a8d5ba52-eaff-45ef-83a4-1f59cdef0348\">\n",
              "  <button class=\"colab-df-quickchart\" onclick=\"quickchart('df-a8d5ba52-eaff-45ef-83a4-1f59cdef0348')\"\n",
              "            title=\"Suggest charts.\"\n",
              "            style=\"display:none;\">\n",
              "\n",
              "<svg xmlns=\"http://www.w3.org/2000/svg\" height=\"24px\"viewBox=\"0 0 24 24\"\n",
              "     width=\"24px\">\n",
              "    <g>\n",
              "        <path d=\"M19 3H5c-1.1 0-2 .9-2 2v14c0 1.1.9 2 2 2h14c1.1 0 2-.9 2-2V5c0-1.1-.9-2-2-2zM9 17H7v-7h2v7zm4 0h-2V7h2v10zm4 0h-2v-4h2v4z\"/>\n",
              "    </g>\n",
              "</svg>\n",
              "  </button>\n",
              "\n",
              "<style>\n",
              "  .colab-df-quickchart {\n",
              "      --bg-color: #E8F0FE;\n",
              "      --fill-color: #1967D2;\n",
              "      --hover-bg-color: #E2EBFA;\n",
              "      --hover-fill-color: #174EA6;\n",
              "      --disabled-fill-color: #AAA;\n",
              "      --disabled-bg-color: #DDD;\n",
              "  }\n",
              "\n",
              "  [theme=dark] .colab-df-quickchart {\n",
              "      --bg-color: #3B4455;\n",
              "      --fill-color: #D2E3FC;\n",
              "      --hover-bg-color: #434B5C;\n",
              "      --hover-fill-color: #FFFFFF;\n",
              "      --disabled-bg-color: #3B4455;\n",
              "      --disabled-fill-color: #666;\n",
              "  }\n",
              "\n",
              "  .colab-df-quickchart {\n",
              "    background-color: var(--bg-color);\n",
              "    border: none;\n",
              "    border-radius: 50%;\n",
              "    cursor: pointer;\n",
              "    display: none;\n",
              "    fill: var(--fill-color);\n",
              "    height: 32px;\n",
              "    padding: 0;\n",
              "    width: 32px;\n",
              "  }\n",
              "\n",
              "  .colab-df-quickchart:hover {\n",
              "    background-color: var(--hover-bg-color);\n",
              "    box-shadow: 0 1px 2px rgba(60, 64, 67, 0.3), 0 1px 3px 1px rgba(60, 64, 67, 0.15);\n",
              "    fill: var(--button-hover-fill-color);\n",
              "  }\n",
              "\n",
              "  .colab-df-quickchart-complete:disabled,\n",
              "  .colab-df-quickchart-complete:disabled:hover {\n",
              "    background-color: var(--disabled-bg-color);\n",
              "    fill: var(--disabled-fill-color);\n",
              "    box-shadow: none;\n",
              "  }\n",
              "\n",
              "  .colab-df-spinner {\n",
              "    border: 2px solid var(--fill-color);\n",
              "    border-color: transparent;\n",
              "    border-bottom-color: var(--fill-color);\n",
              "    animation:\n",
              "      spin 1s steps(1) infinite;\n",
              "  }\n",
              "\n",
              "  @keyframes spin {\n",
              "    0% {\n",
              "      border-color: transparent;\n",
              "      border-bottom-color: var(--fill-color);\n",
              "      border-left-color: var(--fill-color);\n",
              "    }\n",
              "    20% {\n",
              "      border-color: transparent;\n",
              "      border-left-color: var(--fill-color);\n",
              "      border-top-color: var(--fill-color);\n",
              "    }\n",
              "    30% {\n",
              "      border-color: transparent;\n",
              "      border-left-color: var(--fill-color);\n",
              "      border-top-color: var(--fill-color);\n",
              "      border-right-color: var(--fill-color);\n",
              "    }\n",
              "    40% {\n",
              "      border-color: transparent;\n",
              "      border-right-color: var(--fill-color);\n",
              "      border-top-color: var(--fill-color);\n",
              "    }\n",
              "    60% {\n",
              "      border-color: transparent;\n",
              "      border-right-color: var(--fill-color);\n",
              "    }\n",
              "    80% {\n",
              "      border-color: transparent;\n",
              "      border-right-color: var(--fill-color);\n",
              "      border-bottom-color: var(--fill-color);\n",
              "    }\n",
              "    90% {\n",
              "      border-color: transparent;\n",
              "      border-bottom-color: var(--fill-color);\n",
              "    }\n",
              "  }\n",
              "</style>\n",
              "\n",
              "  <script>\n",
              "    async function quickchart(key) {\n",
              "      const quickchartButtonEl =\n",
              "        document.querySelector('#' + key + ' button');\n",
              "      quickchartButtonEl.disabled = true;  // To prevent multiple clicks.\n",
              "      quickchartButtonEl.classList.add('colab-df-spinner');\n",
              "      try {\n",
              "        const charts = await google.colab.kernel.invokeFunction(\n",
              "            'suggestCharts', [key], {});\n",
              "      } catch (error) {\n",
              "        console.error('Error during call to suggestCharts:', error);\n",
              "      }\n",
              "      quickchartButtonEl.classList.remove('colab-df-spinner');\n",
              "      quickchartButtonEl.classList.add('colab-df-quickchart-complete');\n",
              "    }\n",
              "    (() => {\n",
              "      let quickchartButtonEl =\n",
              "        document.querySelector('#df-a8d5ba52-eaff-45ef-83a4-1f59cdef0348 button');\n",
              "      quickchartButtonEl.style.display =\n",
              "        google.colab.kernel.accessAllowed ? 'block' : 'none';\n",
              "    })();\n",
              "  </script>\n",
              "</div>\n",
              "    </div>\n",
              "  </div>\n"
            ]
          },
          "metadata": {},
          "execution_count": 392
        }
      ]
    },
    {
      "cell_type": "code",
      "source": [
        "x_sm_p = copy.deepcopy(x_sm)\n",
        "y_sm_p = copy.deepcopy(y_sm)"
      ],
      "metadata": {
        "id": "nHADwlqjR48a"
      },
      "execution_count": null,
      "outputs": []
    },
    {
      "cell_type": "code",
      "source": [
        "x_sm_a = copy.deepcopy(x_sm)\n",
        "y_sm_a = copy.deepcopy(y_sm)"
      ],
      "metadata": {
        "id": "zHmfkgV04iFu"
      },
      "execution_count": null,
      "outputs": []
    },
    {
      "cell_type": "code",
      "source": [
        "import copy\n",
        "Y_train_p = copy.deepcopy(y_sm_p)\n",
        "# Y_train = Y_train.tolist()\n",
        "Y_test = copy.deepcopy(y_test)\n",
        "# Y_test = Y_test.tolist()\n",
        "\n",
        "ange = [x for y in (PAD_db[PAD_db['term']=='anger'])[['P']].values for x in y]\n",
        "bore = [x for y in (PAD_db[PAD_db['term']=='boredom'])[['P']].values for x in y]\n",
        "disg = [x for y in (PAD_db[PAD_db['term']=='disgust'])[['P']].values for x in y]\n",
        "fea_ = [x for y in (PAD_db[PAD_db['term']=='anxiety_fear'])[['P']].values for x in y]\n",
        "happ = [x for y in (PAD_db[PAD_db['term']=='happiness'])[['P']].values for x in y]\n",
        "sadn = [x for y in (PAD_db[PAD_db['term']=='sadness'])[['P']].values for x in y]\n",
        "neut = [x for y in (PAD_db[PAD_db['term']=='neutral'])[['P']].values for x in y]\n",
        "\n",
        "y_train_p = []\n",
        "for i in Y_train_p:\n",
        "  if i == 'neutral':\n",
        "    y_train_p.append(neut)\n",
        "  elif i == 'anger':\n",
        "    y_train_p.append(ange)\n",
        "  elif i == 'sadness':\n",
        "    y_train_p.append(sadn)\n",
        "  elif i == 'happiness':\n",
        "    y_train_p.append(happ)\n",
        "  elif i == 'fear':\n",
        "    y_train_p.append(fea_)\n",
        "  elif i == 'disgust':\n",
        "    y_train_p.append(disg)\n",
        "  elif i == 'boredom':\n",
        "    y_train_p.append(bore)\n",
        "  else:\n",
        "    continue\n",
        "\n",
        "y_test_p = []\n",
        "for i in Y_test:\n",
        "  if i == 'neutral':\n",
        "    y_test_p.append(neut)\n",
        "  elif i == 'anger':\n",
        "    y_test_p.append(ange)\n",
        "  elif i == 'sadness':\n",
        "    y_test_p.append(sadn)\n",
        "  elif i == 'happiness':\n",
        "    y_test_p.append(happ)\n",
        "  elif i == 'fear':\n",
        "    y_test_p.append(fea_)\n",
        "  elif i == 'disgust':\n",
        "    y_test_p.append(disg)\n",
        "  elif i == 'boredom':\n",
        "    y_test_p.append(bore)\n",
        "  else:\n",
        "    continue\n",
        "y_train_p = np.array(y_train_p)\n",
        "y_test_p = np.array(y_test_p)"
      ],
      "metadata": {
        "id": "PqqCeBp16KBX"
      },
      "execution_count": null,
      "outputs": []
    },
    {
      "cell_type": "code",
      "source": [
        "import copy\n",
        "Y_train_a = copy.deepcopy(y_sm_a)\n",
        "# Y_train = Y_train.tolist()\n",
        "Y_test = copy.deepcopy(y_test)\n",
        "# Y_test = Y_test.tolist()\n",
        "ange = [x for y in (PAD_db[PAD_db['term']=='anger'])[['A']].values for x in y]\n",
        "bore = [x for y in (PAD_db[PAD_db['term']=='boredom'])[['A']].values for x in y]\n",
        "disg = [x for y in (PAD_db[PAD_db['term']=='disgust'])[['A']].values for x in y]\n",
        "fea_ = [x for y in (PAD_db[PAD_db['term']=='anxiety_fear'])[['A']].values for x in y]\n",
        "happ = [x for y in (PAD_db[PAD_db['term']=='happiness'])[['A']].values for x in y]\n",
        "sadn = [x for y in (PAD_db[PAD_db['term']=='sadness'])[['A']].values for x in y]\n",
        "neut = [x for y in (PAD_db[PAD_db['term']=='neutral'])[['A']].values for x in y]\n",
        "\n",
        "y_train_a = []\n",
        "for i in Y_train_a:\n",
        "  if i == 'neutral':\n",
        "    y_train_a.append(neut)\n",
        "  elif i == 'anger':\n",
        "    y_train_a.append(ange)\n",
        "  elif i == 'sadness':\n",
        "    y_train_a.append(sadn)\n",
        "  elif i == 'happiness':\n",
        "    y_train_a.append(happ)\n",
        "  elif i == 'fear':\n",
        "    y_train_a.append(fea_)\n",
        "  elif i == 'disgust':\n",
        "    y_train_a.append(disg)\n",
        "  elif i == 'boredom':\n",
        "    y_train_a.append(bore)\n",
        "  else:\n",
        "    continue\n",
        "\n",
        "y_test_a = []\n",
        "for i in Y_test:\n",
        "  if i == 'neutral':\n",
        "    y_test_a.append(neut)\n",
        "  elif i == 'anger':\n",
        "    y_test_a.append(ange)\n",
        "  elif i == 'sadness':\n",
        "    y_test_a.append(sadn)\n",
        "  elif i == 'happiness':\n",
        "    y_test_a.append(happ)\n",
        "  elif i == 'fear':\n",
        "    y_test_a.append(fea_)\n",
        "  elif i == 'disgust':\n",
        "    y_test_a.append(disg)\n",
        "  elif i == 'boredom':\n",
        "    y_test_a.append(bore)\n",
        "  else:\n",
        "    continue\n",
        "y_train_a = np.array(y_train_a)\n",
        "y_test_a = np.array(y_test_a)"
      ],
      "metadata": {
        "id": "uYvtZ4nX6KBX"
      },
      "execution_count": null,
      "outputs": []
    },
    {
      "cell_type": "code",
      "source": [
        "import copy\n",
        "Y_train = copy.deepcopy(y_sm)\n",
        "# Y_train = Y_train.tolist()\n",
        "Y_test = copy.deepcopy(y_test)\n",
        "# Y_test = Y_test.tolist()\n",
        "ange = [x for y in (PAD_db[PAD_db['term']=='anger'])[['D']].values for x in y]\n",
        "bore = [x for y in (PAD_db[PAD_db['term']=='boredom'])[['D']].values for x in y]\n",
        "disg = [x for y in (PAD_db[PAD_db['term']=='disgust'])[['D']].values for x in y]\n",
        "fea_ = [x for y in (PAD_db[PAD_db['term']=='anxiety_fear'])[['D']].values for x in y]\n",
        "happ = [x for y in (PAD_db[PAD_db['term']=='happiness'])[['D']].values for x in y]\n",
        "sadn = [x for y in (PAD_db[PAD_db['term']=='sadness'])[['D']].values for x in y]\n",
        "neut = [x for y in (PAD_db[PAD_db['term']=='neutral'])[['D']].values for x in y]\n",
        "\n",
        "Y_tra = []\n",
        "for i in Y_train:\n",
        "  if i == 'neutral':\n",
        "    Y_tra.append(neut)\n",
        "  elif i == 'anger':\n",
        "    Y_tra.append(ange)\n",
        "  elif i == 'sadness':\n",
        "    Y_tra.append(sadn)\n",
        "  elif i == 'happiness':\n",
        "    Y_tra.append(happ)\n",
        "  elif i == 'fear':\n",
        "    Y_tra.append(fea_)\n",
        "  elif i == 'disgust':\n",
        "    Y_tra.append(disg)\n",
        "  elif i == 'boredom':\n",
        "    Y_tra.append(bore)\n",
        "  else:\n",
        "    continue\n",
        "\n",
        "Y_tes = []\n",
        "for i in Y_test:\n",
        "  if i == 'neutral':\n",
        "    Y_tes.append(neut)\n",
        "  elif i == 'anger':\n",
        "    Y_tes.append(ange)\n",
        "  elif i == 'sadness':\n",
        "    Y_tes.append(sadn)\n",
        "  elif i == 'happiness':\n",
        "    Y_tes.append(happ)\n",
        "  elif i == 'fear':\n",
        "    Y_tes.append(fea_)\n",
        "  elif i == 'disgust':\n",
        "    Y_tes.append(disg)\n",
        "  elif i == 'boredom':\n",
        "    Y_tes.append(bore)\n",
        "  else:\n",
        "    continue\n",
        "Y_tra = np.array(Y_tra)\n",
        "Y_tes = np.array(Y_tes)"
      ],
      "metadata": {
        "id": "MRt6Nuow6KBY"
      },
      "execution_count": null,
      "outputs": []
    },
    {
      "cell_type": "code",
      "source": [
        "# y_train=np.array(y_train)\n",
        "# y_test=np.array(y_test)"
      ],
      "metadata": {
        "id": "LIfr7QZA0A9X"
      },
      "execution_count": null,
      "outputs": []
    },
    {
      "cell_type": "code",
      "source": [
        "# lb = LabelEncoder()\n",
        "# y_train = to_categorical(lb.fit_transform(y_train))\n",
        "# y_test = to_categorical(lb.fit_transform(y_test))"
      ],
      "metadata": {
        "id": "aAULgbWx0EbP"
      },
      "execution_count": null,
      "outputs": []
    },
    {
      "cell_type": "code",
      "source": [
        "y_train_p.shape"
      ],
      "metadata": {
        "colab": {
          "base_uri": "https://localhost:8080/"
        },
        "id": "jUzHbcTr5Kt_",
        "outputId": "8c8f6edc-0ee3-499b-a5ea-93c9f42a9729"
      },
      "execution_count": null,
      "outputs": [
        {
          "output_type": "execute_result",
          "data": {
            "text/plain": [
              "(762, 1)"
            ]
          },
          "metadata": {},
          "execution_count": 395
        }
      ]
    },
    {
      "cell_type": "code",
      "source": [
        "x_train = x_sm_p[:,:,np.newaxis]\n",
        "x_test = x_test[:,:,np.newaxis]\n",
        "x_train.shape"
      ],
      "metadata": {
        "colab": {
          "base_uri": "https://localhost:8080/"
        },
        "id": "0h1ju7vn0Fq-",
        "outputId": "9a4ece20-bb8f-479a-8f97-f9053d5966d2"
      },
      "execution_count": null,
      "outputs": [
        {
          "output_type": "execute_result",
          "data": {
            "text/plain": [
              "(762, 182, 1)"
            ]
          },
          "metadata": {},
          "execution_count": 396
        }
      ]
    },
    {
      "cell_type": "code",
      "source": [
        "len(Y_tra)"
      ],
      "metadata": {
        "colab": {
          "base_uri": "https://localhost:8080/"
        },
        "id": "bzPhbvtd5X_r",
        "outputId": "2c4854e3-275e-49eb-e5b4-2b406edd4df7"
      },
      "execution_count": null,
      "outputs": [
        {
          "output_type": "execute_result",
          "data": {
            "text/plain": [
              "765"
            ]
          },
          "metadata": {},
          "execution_count": 361
        }
      ]
    },
    {
      "cell_type": "code",
      "source": [
        "len(y_train_p)"
      ],
      "metadata": {
        "colab": {
          "base_uri": "https://localhost:8080/"
        },
        "id": "Pqh4mGU7WpP8",
        "outputId": "24c659ae-adfc-4241-c4b1-09a053214ae7"
      },
      "execution_count": null,
      "outputs": [
        {
          "output_type": "execute_result",
          "data": {
            "text/plain": [
              "762"
            ]
          },
          "metadata": {},
          "execution_count": 397
        }
      ]
    },
    {
      "cell_type": "code",
      "source": [
        "len(y_test_p)"
      ],
      "metadata": {
        "colab": {
          "base_uri": "https://localhost:8080/"
        },
        "id": "tPABPDa5Wp8Q",
        "outputId": "405061e1-4c2e-4a17-f37c-a3395b4c7046"
      },
      "execution_count": null,
      "outputs": [
        {
          "output_type": "execute_result",
          "data": {
            "text/plain": [
              "107"
            ]
          },
          "metadata": {},
          "execution_count": 398
        }
      ]
    },
    {
      "cell_type": "code",
      "source": [
        "len(x_test)"
      ],
      "metadata": {
        "colab": {
          "base_uri": "https://localhost:8080/"
        },
        "id": "B-4-4S28XAY6",
        "outputId": "4dd46b75-ee8a-44db-912f-c110c9308d58"
      },
      "execution_count": null,
      "outputs": [
        {
          "output_type": "execute_result",
          "data": {
            "text/plain": [
              "107"
            ]
          },
          "metadata": {},
          "execution_count": 399
        }
      ]
    },
    {
      "cell_type": "code",
      "source": [
        "x_test.shape"
      ],
      "metadata": {
        "colab": {
          "base_uri": "https://localhost:8080/"
        },
        "id": "g9XPBdABXKO1",
        "outputId": "0cbc3ded-74fc-45da-9f2d-935f8c34c6d3"
      },
      "execution_count": null,
      "outputs": [
        {
          "output_type": "execute_result",
          "data": {
            "text/plain": [
              "(107, 182, 1)"
            ]
          },
          "metadata": {},
          "execution_count": 400
        }
      ]
    },
    {
      "cell_type": "code",
      "source": [],
      "metadata": {
        "id": "T45yV5zHXKEb"
      },
      "execution_count": null,
      "outputs": []
    },
    {
      "cell_type": "code",
      "source": [
        "def my_huber_loss(y_true, y_pred):\n",
        "    threshold = 1\n",
        "    error = y_true - y_pred\n",
        "    is_small_error = tf.abs(error) <= threshold\n",
        "    small_error_loss = tf.square(error) / 2\n",
        "    big_error_loss = threshold * (tf.abs(error) - (0.5 * threshold))\n",
        "    return tf.where(is_small_error, small_error_loss, big_error_loss)"
      ],
      "metadata": {
        "id": "Bm4HHWt2_xZq"
      },
      "execution_count": null,
      "outputs": []
    },
    {
      "cell_type": "code",
      "source": [
        "import tensorflow as tf\n",
        "from tensorflow import keras\n",
        "from tensorflow.keras import layers\n",
        "from tensorflow.keras.models import Sequential, load_model\n",
        "from keras.callbacks import EarlyStopping\n",
        "from keras.callbacks import ModelCheckpoint\n",
        "\n",
        "#BUILD 1D CNN LAYERS\n",
        "model = tf.keras.Sequential()\n",
        "model.add(layers.Conv1D(64, kernel_size=(10), activation='relu', input_shape=(x_train.shape[1],1)))\n",
        "model.add(layers.Conv1D(128, kernel_size=(10),activation='relu',kernel_regularizer=l2(0.01), bias_regularizer=l2(0.01)))\n",
        "model.add(layers.MaxPooling1D(pool_size=(8)))\n",
        "model.add(layers.Dropout(0.4))\n",
        "model.add(layers.Conv1D(128, kernel_size=(10),activation='relu'))\n",
        "model.add(layers.MaxPooling1D(pool_size=(8)))\n",
        "model.add(layers.Dropout(0.4))\n",
        "model.add(layers.Flatten())\n",
        "model.add(layers.Dense(256, activation='relu'))\n",
        "model.add(layers.Dropout(0.5))\n",
        "model.add(layers.Dense(1, activation='linear'))\n",
        "opt = keras.optimizers.Adam(learning_rate=0.001)\n",
        "model.compile(loss=my_huber_loss, optimizer=opt,metrics=[tf.keras.metrics.MeanSquaredError()])\n",
        "model.summary()"
      ],
      "metadata": {
        "colab": {
          "base_uri": "https://localhost:8080/"
        },
        "id": "sr1EmktV0JxO",
        "outputId": "e354a468-1238-40d1-8f2c-cce903ba0c39"
      },
      "execution_count": null,
      "outputs": [
        {
          "output_type": "stream",
          "name": "stdout",
          "text": [
            "Model: \"sequential_9\"\n",
            "_________________________________________________________________\n",
            " Layer (type)                Output Shape              Param #   \n",
            "=================================================================\n",
            " conv1d_27 (Conv1D)          (None, 173, 64)           704       \n",
            "                                                                 \n",
            " conv1d_28 (Conv1D)          (None, 164, 128)          82048     \n",
            "                                                                 \n",
            " max_pooling1d_18 (MaxPoolin  (None, 20, 128)          0         \n",
            " g1D)                                                            \n",
            "                                                                 \n",
            " dropout_27 (Dropout)        (None, 20, 128)           0         \n",
            "                                                                 \n",
            " conv1d_29 (Conv1D)          (None, 11, 128)           163968    \n",
            "                                                                 \n",
            " max_pooling1d_19 (MaxPoolin  (None, 1, 128)           0         \n",
            " g1D)                                                            \n",
            "                                                                 \n",
            " dropout_28 (Dropout)        (None, 1, 128)            0         \n",
            "                                                                 \n",
            " flatten_9 (Flatten)         (None, 128)               0         \n",
            "                                                                 \n",
            " dense_18 (Dense)            (None, 256)               33024     \n",
            "                                                                 \n",
            " dropout_29 (Dropout)        (None, 256)               0         \n",
            "                                                                 \n",
            " dense_19 (Dense)            (None, 1)                 257       \n",
            "                                                                 \n",
            "=================================================================\n",
            "Total params: 280,001\n",
            "Trainable params: 280,001\n",
            "Non-trainable params: 0\n",
            "_________________________________________________________________\n"
          ]
        }
      ]
    },
    {
      "cell_type": "code",
      "source": [
        "stop_early = EarlyStopping(monitor='val_loss', mode='min',\n",
        "                           verbose=1, patience=10)\n",
        "checkpoint = ModelCheckpoint(\n",
        "    'cnn_r.h5',\n",
        "    monitor = 'val_loss',\n",
        "    verbose = 1,\n",
        "    save_best_only = True\n",
        ")"
      ],
      "metadata": {
        "id": "ZKec0f7o-fgJ"
      },
      "execution_count": null,
      "outputs": []
    },
    {
      "cell_type": "code",
      "source": [
        "import tensorflow.keras as keras\n",
        "model_history=model.fit(x_train, y_train_p,batch_size=32, epochs=150, callbacks=[checkpoint,stop_early], validation_data=(x_test, y_test_p))"
      ],
      "metadata": {
        "colab": {
          "base_uri": "https://localhost:8080/"
        },
        "id": "YTRQJAao0Lwm",
        "outputId": "59aa9378-7d4a-4eb9-e7ed-5545c24839e7"
      },
      "execution_count": null,
      "outputs": [
        {
          "output_type": "stream",
          "name": "stdout",
          "text": [
            "Epoch 1/150\n",
            "24/24 [==============================] - ETA: 0s - loss: 2.0658 - mean_squared_error: 10.1670\n",
            "Epoch 1: val_loss improved from inf to 0.93002, saving model to cnn_r.h5\n",
            "24/24 [==============================] - 6s 158ms/step - loss: 2.0658 - mean_squared_error: 10.1670 - val_loss: 0.9300 - val_mean_squared_error: 0.2823\n",
            "Epoch 2/150\n",
            "24/24 [==============================] - ETA: 0s - loss: 1.0595 - mean_squared_error: 0.9490\n",
            "Epoch 2: val_loss improved from 0.93002 to 0.86503, saving model to cnn_r.h5\n",
            "24/24 [==============================] - 3s 110ms/step - loss: 1.0595 - mean_squared_error: 0.9490 - val_loss: 0.8650 - val_mean_squared_error: 0.3003\n",
            "Epoch 3/150\n",
            "24/24 [==============================] - ETA: 0s - loss: 0.8748 - mean_squared_error: 0.4525\n",
            "Epoch 3: val_loss improved from 0.86503 to 0.77154, saving model to cnn_r.h5\n",
            "24/24 [==============================] - 3s 111ms/step - loss: 0.8748 - mean_squared_error: 0.4525 - val_loss: 0.7715 - val_mean_squared_error: 0.2623\n",
            "Epoch 4/150\n",
            "24/24 [==============================] - ETA: 0s - loss: 0.7545 - mean_squared_error: 0.3114\n",
            "Epoch 4: val_loss improved from 0.77154 to 0.68823, saving model to cnn_r.h5\n",
            "24/24 [==============================] - 3s 113ms/step - loss: 0.7545 - mean_squared_error: 0.3114 - val_loss: 0.6882 - val_mean_squared_error: 0.2292\n",
            "Epoch 5/150\n",
            "24/24 [==============================] - ETA: 0s - loss: 0.6848 - mean_squared_error: 0.2895\n",
            "Epoch 5: val_loss improved from 0.68823 to 0.63711, saving model to cnn_r.h5\n",
            "24/24 [==============================] - 4s 188ms/step - loss: 0.6848 - mean_squared_error: 0.2895 - val_loss: 0.6371 - val_mean_squared_error: 0.2434\n",
            "Epoch 6/150\n",
            "24/24 [==============================] - ETA: 0s - loss: 0.6245 - mean_squared_error: 0.2877\n",
            "Epoch 6: val_loss improved from 0.63711 to 0.58477, saving model to cnn_r.h5\n",
            "24/24 [==============================] - 3s 121ms/step - loss: 0.6245 - mean_squared_error: 0.2877 - val_loss: 0.5848 - val_mean_squared_error: 0.2385\n",
            "Epoch 7/150\n",
            "24/24 [==============================] - ETA: 0s - loss: 0.5690 - mean_squared_error: 0.2554\n",
            "Epoch 7: val_loss improved from 0.58477 to 0.54521, saving model to cnn_r.h5\n",
            "24/24 [==============================] - 3s 109ms/step - loss: 0.5690 - mean_squared_error: 0.2554 - val_loss: 0.5452 - val_mean_squared_error: 0.2462\n",
            "Epoch 8/150\n",
            "24/24 [==============================] - ETA: 0s - loss: 0.5298 - mean_squared_error: 0.2652\n",
            "Epoch 8: val_loss improved from 0.54521 to 0.50075, saving model to cnn_r.h5\n",
            "24/24 [==============================] - 3s 107ms/step - loss: 0.5298 - mean_squared_error: 0.2652 - val_loss: 0.5008 - val_mean_squared_error: 0.2359\n",
            "Epoch 9/150\n",
            "24/24 [==============================] - ETA: 0s - loss: 0.4840 - mean_squared_error: 0.2382\n",
            "Epoch 9: val_loss improved from 0.50075 to 0.47577, saving model to cnn_r.h5\n",
            "24/24 [==============================] - 3s 109ms/step - loss: 0.4840 - mean_squared_error: 0.2382 - val_loss: 0.4758 - val_mean_squared_error: 0.2549\n",
            "Epoch 10/150\n",
            "24/24 [==============================] - ETA: 0s - loss: 0.4454 - mean_squared_error: 0.2247\n",
            "Epoch 10: val_loss improved from 0.47577 to 0.43312, saving model to cnn_r.h5\n",
            "24/24 [==============================] - 4s 190ms/step - loss: 0.4454 - mean_squared_error: 0.2247 - val_loss: 0.4331 - val_mean_squared_error: 0.2318\n",
            "Epoch 11/150\n",
            "24/24 [==============================] - ETA: 0s - loss: 0.4124 - mean_squared_error: 0.2174\n",
            "Epoch 11: val_loss improved from 0.43312 to 0.39642, saving model to cnn_r.h5\n",
            "24/24 [==============================] - 3s 123ms/step - loss: 0.4124 - mean_squared_error: 0.2174 - val_loss: 0.3964 - val_mean_squared_error: 0.2134\n",
            "Epoch 12/150\n",
            "24/24 [==============================] - ETA: 0s - loss: 0.3867 - mean_squared_error: 0.2181\n",
            "Epoch 12: val_loss improved from 0.39642 to 0.37860, saving model to cnn_r.h5\n",
            "24/24 [==============================] - 3s 110ms/step - loss: 0.3867 - mean_squared_error: 0.2181 - val_loss: 0.3786 - val_mean_squared_error: 0.2278\n",
            "Epoch 13/150\n",
            "24/24 [==============================] - ETA: 0s - loss: 0.3555 - mean_squared_error: 0.2026\n",
            "Epoch 13: val_loss improved from 0.37860 to 0.34664, saving model to cnn_r.h5\n",
            "24/24 [==============================] - 3s 106ms/step - loss: 0.3555 - mean_squared_error: 0.2026 - val_loss: 0.3466 - val_mean_squared_error: 0.2075\n",
            "Epoch 14/150\n",
            "24/24 [==============================] - ETA: 0s - loss: 0.3371 - mean_squared_error: 0.2098\n",
            "Epoch 14: val_loss improved from 0.34664 to 0.31574, saving model to cnn_r.h5\n",
            "24/24 [==============================] - 4s 179ms/step - loss: 0.3371 - mean_squared_error: 0.2098 - val_loss: 0.3157 - val_mean_squared_error: 0.1864\n",
            "Epoch 15/150\n",
            "24/24 [==============================] - ETA: 0s - loss: 0.3158 - mean_squared_error: 0.2043\n",
            "Epoch 15: val_loss did not improve from 0.31574\n",
            "24/24 [==============================] - 5s 190ms/step - loss: 0.3158 - mean_squared_error: 0.2043 - val_loss: 0.3266 - val_mean_squared_error: 0.2443\n",
            "Epoch 16/150\n",
            "24/24 [==============================] - ETA: 0s - loss: 0.3002 - mean_squared_error: 0.2078\n",
            "Epoch 16: val_loss did not improve from 0.31574\n",
            "24/24 [==============================] - 6s 249ms/step - loss: 0.3002 - mean_squared_error: 0.2078 - val_loss: 0.3216 - val_mean_squared_error: 0.2667\n",
            "Epoch 17/150\n",
            "24/24 [==============================] - ETA: 0s - loss: 0.2861 - mean_squared_error: 0.2152\n",
            "Epoch 17: val_loss improved from 0.31574 to 0.24509, saving model to cnn_r.h5\n",
            "24/24 [==============================] - 6s 266ms/step - loss: 0.2861 - mean_squared_error: 0.2152 - val_loss: 0.2451 - val_mean_squared_error: 0.1423\n",
            "Epoch 18/150\n",
            "24/24 [==============================] - ETA: 0s - loss: 0.2696 - mean_squared_error: 0.2043\n",
            "Epoch 18: val_loss did not improve from 0.24509\n",
            "24/24 [==============================] - 8s 312ms/step - loss: 0.2696 - mean_squared_error: 0.2043 - val_loss: 0.2570 - val_mean_squared_error: 0.1910\n",
            "Epoch 19/150\n",
            "24/24 [==============================] - ETA: 0s - loss: 0.2542 - mean_squared_error: 0.1975\n",
            "Epoch 19: val_loss improved from 0.24509 to 0.24376, saving model to cnn_r.h5\n",
            "24/24 [==============================] - 7s 292ms/step - loss: 0.2542 - mean_squared_error: 0.1975 - val_loss: 0.2438 - val_mean_squared_error: 0.1892\n",
            "Epoch 20/150\n",
            "24/24 [==============================] - ETA: 0s - loss: 0.2365 - mean_squared_error: 0.1891\n",
            "Epoch 20: val_loss did not improve from 0.24376\n",
            "24/24 [==============================] - 6s 255ms/step - loss: 0.2365 - mean_squared_error: 0.1891 - val_loss: 0.2467 - val_mean_squared_error: 0.2190\n",
            "Epoch 21/150\n",
            "24/24 [==============================] - ETA: 0s - loss: 0.2284 - mean_squared_error: 0.1937\n",
            "Epoch 21: val_loss improved from 0.24376 to 0.22808, saving model to cnn_r.h5\n",
            "24/24 [==============================] - 6s 240ms/step - loss: 0.2284 - mean_squared_error: 0.1937 - val_loss: 0.2281 - val_mean_squared_error: 0.2023\n",
            "Epoch 22/150\n",
            "24/24 [==============================] - ETA: 0s - loss: 0.2113 - mean_squared_error: 0.1775\n",
            "Epoch 22: val_loss improved from 0.22808 to 0.20387, saving model to cnn_r.h5\n",
            "24/24 [==============================] - 8s 348ms/step - loss: 0.2113 - mean_squared_error: 0.1775 - val_loss: 0.2039 - val_mean_squared_error: 0.1708\n",
            "Epoch 23/150\n",
            "24/24 [==============================] - ETA: 0s - loss: 0.1969 - mean_squared_error: 0.1654\n",
            "Epoch 23: val_loss improved from 0.20387 to 0.19474, saving model to cnn_r.h5\n",
            "24/24 [==============================] - 5s 211ms/step - loss: 0.1969 - mean_squared_error: 0.1654 - val_loss: 0.1947 - val_mean_squared_error: 0.1700\n",
            "Epoch 24/150\n",
            "24/24 [==============================] - ETA: 0s - loss: 0.1940 - mean_squared_error: 0.1761\n",
            "Epoch 24: val_loss improved from 0.19474 to 0.18386, saving model to cnn_r.h5\n",
            "24/24 [==============================] - 6s 273ms/step - loss: 0.1940 - mean_squared_error: 0.1761 - val_loss: 0.1839 - val_mean_squared_error: 0.1621\n",
            "Epoch 25/150\n",
            "24/24 [==============================] - ETA: 0s - loss: 0.1886 - mean_squared_error: 0.1802\n",
            "Epoch 25: val_loss improved from 0.18386 to 0.17829, saving model to cnn_r.h5\n",
            "24/24 [==============================] - 5s 202ms/step - loss: 0.1886 - mean_squared_error: 0.1802 - val_loss: 0.1783 - val_mean_squared_error: 0.1643\n",
            "Epoch 26/150\n",
            "24/24 [==============================] - ETA: 0s - loss: 0.1764 - mean_squared_error: 0.1671\n",
            "Epoch 26: val_loss did not improve from 0.17829\n",
            "24/24 [==============================] - 4s 164ms/step - loss: 0.1764 - mean_squared_error: 0.1671 - val_loss: 0.1911 - val_mean_squared_error: 0.2039\n",
            "Epoch 27/150\n",
            "24/24 [==============================] - ETA: 0s - loss: 0.1618 - mean_squared_error: 0.1515\n",
            "Epoch 27: val_loss improved from 0.17829 to 0.17581, saving model to cnn_r.h5\n",
            "24/24 [==============================] - 3s 109ms/step - loss: 0.1618 - mean_squared_error: 0.1515 - val_loss: 0.1758 - val_mean_squared_error: 0.1862\n",
            "Epoch 28/150\n",
            "24/24 [==============================] - ETA: 0s - loss: 0.1598 - mean_squared_error: 0.1600\n",
            "Epoch 28: val_loss improved from 0.17581 to 0.17362, saving model to cnn_r.h5\n",
            "24/24 [==============================] - 4s 188ms/step - loss: 0.1598 - mean_squared_error: 0.1600 - val_loss: 0.1736 - val_mean_squared_error: 0.1931\n",
            "Epoch 29/150\n",
            "24/24 [==============================] - ETA: 0s - loss: 0.1581 - mean_squared_error: 0.1667\n",
            "Epoch 29: val_loss did not improve from 0.17362\n",
            "24/24 [==============================] - 3s 123ms/step - loss: 0.1581 - mean_squared_error: 0.1667 - val_loss: 0.1973 - val_mean_squared_error: 0.2493\n",
            "Epoch 30/150\n",
            "24/24 [==============================] - ETA: 0s - loss: 0.1575 - mean_squared_error: 0.1766\n",
            "Epoch 30: val_loss did not improve from 0.17362\n",
            "24/24 [==============================] - 4s 159ms/step - loss: 0.1575 - mean_squared_error: 0.1766 - val_loss: 0.1775 - val_mean_squared_error: 0.2171\n",
            "Epoch 31/150\n",
            "24/24 [==============================] - ETA: 0s - loss: 0.1440 - mean_squared_error: 0.1544\n",
            "Epoch 31: val_loss improved from 0.17362 to 0.16349, saving model to cnn_r.h5\n",
            "24/24 [==============================] - 3s 133ms/step - loss: 0.1440 - mean_squared_error: 0.1544 - val_loss: 0.1635 - val_mean_squared_error: 0.1976\n",
            "Epoch 32/150\n",
            "24/24 [==============================] - ETA: 0s - loss: 0.1430 - mean_squared_error: 0.1621\n",
            "Epoch 32: val_loss did not improve from 0.16349\n",
            "24/24 [==============================] - 4s 159ms/step - loss: 0.1430 - mean_squared_error: 0.1621 - val_loss: 0.1805 - val_mean_squared_error: 0.2390\n",
            "Epoch 33/150\n",
            "24/24 [==============================] - ETA: 0s - loss: 0.1352 - mean_squared_error: 0.1526\n",
            "Epoch 33: val_loss did not improve from 0.16349\n",
            "24/24 [==============================] - 4s 156ms/step - loss: 0.1352 - mean_squared_error: 0.1526 - val_loss: 0.1639 - val_mean_squared_error: 0.2146\n",
            "Epoch 34/150\n",
            "24/24 [==============================] - ETA: 0s - loss: 0.1349 - mean_squared_error: 0.1634\n",
            "Epoch 34: val_loss improved from 0.16349 to 0.13872, saving model to cnn_r.h5\n",
            "24/24 [==============================] - 4s 157ms/step - loss: 0.1349 - mean_squared_error: 0.1634 - val_loss: 0.1387 - val_mean_squared_error: 0.1705\n",
            "Epoch 35/150\n",
            "24/24 [==============================] - ETA: 0s - loss: 0.1213 - mean_squared_error: 0.1391\n",
            "Epoch 35: val_loss improved from 0.13872 to 0.12351, saving model to cnn_r.h5\n",
            "24/24 [==============================] - 6s 239ms/step - loss: 0.1213 - mean_squared_error: 0.1391 - val_loss: 0.1235 - val_mean_squared_error: 0.1465\n",
            "Epoch 36/150\n",
            "24/24 [==============================] - ETA: 0s - loss: 0.1213 - mean_squared_error: 0.1441\n",
            "Epoch 36: val_loss improved from 0.12351 to 0.12274, saving model to cnn_r.h5\n",
            "24/24 [==============================] - 8s 317ms/step - loss: 0.1213 - mean_squared_error: 0.1441 - val_loss: 0.1227 - val_mean_squared_error: 0.1476\n",
            "Epoch 37/150\n",
            "24/24 [==============================] - ETA: 0s - loss: 0.1123 - mean_squared_error: 0.1284\n",
            "Epoch 37: val_loss improved from 0.12274 to 0.11559, saving model to cnn_r.h5\n",
            "24/24 [==============================] - 5s 212ms/step - loss: 0.1123 - mean_squared_error: 0.1284 - val_loss: 0.1156 - val_mean_squared_error: 0.1376\n",
            "Epoch 38/150\n",
            "24/24 [==============================] - ETA: 0s - loss: 0.1108 - mean_squared_error: 0.1303\n",
            "Epoch 38: val_loss did not improve from 0.11559\n",
            "24/24 [==============================] - 5s 220ms/step - loss: 0.1108 - mean_squared_error: 0.1303 - val_loss: 0.1258 - val_mean_squared_error: 0.1619\n",
            "Epoch 39/150\n",
            "24/24 [==============================] - ETA: 0s - loss: 0.1176 - mean_squared_error: 0.1472\n",
            "Epoch 39: val_loss did not improve from 0.11559\n",
            "24/24 [==============================] - 3s 142ms/step - loss: 0.1176 - mean_squared_error: 0.1472 - val_loss: 0.1302 - val_mean_squared_error: 0.1734\n",
            "Epoch 40/150\n",
            "24/24 [==============================] - ETA: 0s - loss: 0.1139 - mean_squared_error: 0.1430\n",
            "Epoch 40: val_loss did not improve from 0.11559\n",
            "24/24 [==============================] - 3s 113ms/step - loss: 0.1139 - mean_squared_error: 0.1430 - val_loss: 0.1393 - val_mean_squared_error: 0.1948\n",
            "Epoch 41/150\n",
            "24/24 [==============================] - ETA: 0s - loss: 0.1093 - mean_squared_error: 0.1370\n",
            "Epoch 41: val_loss did not improve from 0.11559\n",
            "24/24 [==============================] - 4s 150ms/step - loss: 0.1093 - mean_squared_error: 0.1370 - val_loss: 0.1710 - val_mean_squared_error: 0.2624\n",
            "Epoch 42/150\n",
            "24/24 [==============================] - ETA: 0s - loss: 0.1119 - mean_squared_error: 0.1451\n",
            "Epoch 42: val_loss did not improve from 0.11559\n",
            "24/24 [==============================] - 3s 126ms/step - loss: 0.1119 - mean_squared_error: 0.1451 - val_loss: 0.1203 - val_mean_squared_error: 0.1633\n",
            "Epoch 43/150\n",
            "24/24 [==============================] - ETA: 0s - loss: 0.1104 - mean_squared_error: 0.1460\n",
            "Epoch 43: val_loss did not improve from 0.11559\n",
            "24/24 [==============================] - 5s 191ms/step - loss: 0.1104 - mean_squared_error: 0.1460 - val_loss: 0.1701 - val_mean_squared_error: 0.2656\n",
            "Epoch 44/150\n",
            "24/24 [==============================] - ETA: 0s - loss: 0.1101 - mean_squared_error: 0.1458\n",
            "Epoch 44: val_loss improved from 0.11559 to 0.10052, saving model to cnn_r.h5\n",
            "24/24 [==============================] - 4s 161ms/step - loss: 0.1101 - mean_squared_error: 0.1458 - val_loss: 0.1005 - val_mean_squared_error: 0.1271\n",
            "Epoch 45/150\n",
            "24/24 [==============================] - ETA: 0s - loss: 0.1024 - mean_squared_error: 0.1327\n",
            "Epoch 45: val_loss improved from 0.10052 to 0.09834, saving model to cnn_r.h5\n",
            "24/24 [==============================] - 4s 157ms/step - loss: 0.1024 - mean_squared_error: 0.1327 - val_loss: 0.0983 - val_mean_squared_error: 0.1269\n",
            "Epoch 46/150\n",
            "24/24 [==============================] - ETA: 0s - loss: 0.0911 - mean_squared_error: 0.1148\n",
            "Epoch 46: val_loss improved from 0.09834 to 0.08860, saving model to cnn_r.h5\n",
            "24/24 [==============================] - 6s 270ms/step - loss: 0.0911 - mean_squared_error: 0.1148 - val_loss: 0.0886 - val_mean_squared_error: 0.1125\n",
            "Epoch 47/150\n",
            "24/24 [==============================] - ETA: 0s - loss: 0.0852 - mean_squared_error: 0.1077\n",
            "Epoch 47: val_loss improved from 0.08860 to 0.08580, saving model to cnn_r.h5\n",
            "24/24 [==============================] - 5s 213ms/step - loss: 0.0852 - mean_squared_error: 0.1077 - val_loss: 0.0858 - val_mean_squared_error: 0.1110\n",
            "Epoch 48/150\n",
            "24/24 [==============================] - ETA: 0s - loss: 0.0876 - mean_squared_error: 0.1164\n",
            "Epoch 48: val_loss did not improve from 0.08580\n",
            "24/24 [==============================] - 4s 171ms/step - loss: 0.0876 - mean_squared_error: 0.1164 - val_loss: 0.0981 - val_mean_squared_error: 0.1387\n",
            "Epoch 49/150\n",
            "24/24 [==============================] - ETA: 0s - loss: 0.0885 - mean_squared_error: 0.1202\n",
            "Epoch 49: val_loss did not improve from 0.08580\n",
            "24/24 [==============================] - 5s 207ms/step - loss: 0.0885 - mean_squared_error: 0.1202 - val_loss: 0.0979 - val_mean_squared_error: 0.1391\n",
            "Epoch 50/150\n",
            "24/24 [==============================] - ETA: 0s - loss: 0.0883 - mean_squared_error: 0.1208\n",
            "Epoch 50: val_loss did not improve from 0.08580\n",
            "24/24 [==============================] - 4s 157ms/step - loss: 0.0883 - mean_squared_error: 0.1208 - val_loss: 0.1265 - val_mean_squared_error: 0.1980\n",
            "Epoch 51/150\n",
            "24/24 [==============================] - ETA: 0s - loss: 0.0858 - mean_squared_error: 0.1172\n",
            "Epoch 51: val_loss did not improve from 0.08580\n",
            "24/24 [==============================] - 3s 111ms/step - loss: 0.0858 - mean_squared_error: 0.1172 - val_loss: 0.1204 - val_mean_squared_error: 0.1865\n",
            "Epoch 52/150\n",
            "24/24 [==============================] - ETA: 0s - loss: 0.0833 - mean_squared_error: 0.1111\n",
            "Epoch 52: val_loss did not improve from 0.08580\n",
            "24/24 [==============================] - 3s 109ms/step - loss: 0.0833 - mean_squared_error: 0.1111 - val_loss: 0.0897 - val_mean_squared_error: 0.1222\n",
            "Epoch 53/150\n",
            "24/24 [==============================] - ETA: 0s - loss: 0.0865 - mean_squared_error: 0.1164\n",
            "Epoch 53: val_loss did not improve from 0.08580\n",
            "24/24 [==============================] - 3s 110ms/step - loss: 0.0865 - mean_squared_error: 0.1164 - val_loss: 0.1111 - val_mean_squared_error: 0.1666\n",
            "Epoch 54/150\n",
            "24/24 [==============================] - ETA: 0s - loss: 0.0745 - mean_squared_error: 0.0953\n",
            "Epoch 54: val_loss did not improve from 0.08580\n",
            "24/24 [==============================] - 4s 154ms/step - loss: 0.0745 - mean_squared_error: 0.0953 - val_loss: 0.0907 - val_mean_squared_error: 0.1301\n",
            "Epoch 55/150\n",
            "24/24 [==============================] - ETA: 0s - loss: 0.0761 - mean_squared_error: 0.1031\n",
            "Epoch 55: val_loss did not improve from 0.08580\n",
            "24/24 [==============================] - 4s 156ms/step - loss: 0.0761 - mean_squared_error: 0.1031 - val_loss: 0.1092 - val_mean_squared_error: 0.1709\n",
            "Epoch 56/150\n",
            "24/24 [==============================] - ETA: 0s - loss: 0.0761 - mean_squared_error: 0.1049\n",
            "Epoch 56: val_loss did not improve from 0.08580\n",
            "24/24 [==============================] - 3s 109ms/step - loss: 0.0761 - mean_squared_error: 0.1049 - val_loss: 0.1169 - val_mean_squared_error: 0.1865\n",
            "Epoch 57/150\n",
            "24/24 [==============================] - ETA: 0s - loss: 0.0683 - mean_squared_error: 0.0892\n",
            "Epoch 57: val_loss did not improve from 0.08580\n",
            "24/24 [==============================] - 3s 111ms/step - loss: 0.0683 - mean_squared_error: 0.0892 - val_loss: 0.0924 - val_mean_squared_error: 0.1380\n",
            "Epoch 57: early stopping\n"
          ]
        }
      ]
    },
    {
      "cell_type": "code",
      "source": [
        "predict = model.predict(x_test)\n",
        "# loss, accu = model.evaluate(X_test,Y_test,verbose=1)"
      ],
      "metadata": {
        "colab": {
          "base_uri": "https://localhost:8080/"
        },
        "id": "TZumJoAJ8lut",
        "outputId": "34f9de62-397b-491d-9cfb-bfbaba97e23c"
      },
      "execution_count": null,
      "outputs": [
        {
          "output_type": "stream",
          "name": "stdout",
          "text": [
            "4/4 [==============================] - 0s 23ms/step\n"
          ]
        }
      ]
    },
    {
      "cell_type": "code",
      "source": [
        "max(predict)"
      ],
      "metadata": {
        "colab": {
          "base_uri": "https://localhost:8080/"
        },
        "id": "Rbv5uwOFYIif",
        "outputId": "64b8fc87-9904-4770-89ad-a7c3f2285547"
      },
      "execution_count": null,
      "outputs": [
        {
          "output_type": "execute_result",
          "data": {
            "text/plain": [
              "array([0.7119901], dtype=float32)"
            ]
          },
          "metadata": {},
          "execution_count": 406
        }
      ]
    },
    {
      "cell_type": "code",
      "source": [
        "import pickle\n",
        "\n",
        "with open(\"/content/drive/MyDrive/SER_0817/EMODB_CNN_MLP/p_hubor_cnnregressor_smo.pickle\",\"wb\") as f:\n",
        "    pickle.dump(predict, f)"
      ],
      "metadata": {
        "id": "yE0OcopVYHif"
      },
      "execution_count": null,
      "outputs": []
    },
    {
      "cell_type": "code",
      "source": [
        "predict"
      ],
      "metadata": {
        "colab": {
          "base_uri": "https://localhost:8080/"
        },
        "id": "D-WlrfxA6I1B",
        "outputId": "3902fc5d-d147-49cb-bb4c-cf5becdef50e"
      },
      "execution_count": null,
      "outputs": [
        {
          "output_type": "execute_result",
          "data": {
            "text/plain": [
              "array([[-3.31034392e-01],\n",
              "       [ 1.11979507e-01],\n",
              "       [ 1.70224980e-01],\n",
              "       [-1.95773870e-01],\n",
              "       [-3.93155873e-01],\n",
              "       [ 4.14532721e-02],\n",
              "       [-1.95559770e-01],\n",
              "       [-5.15472405e-02],\n",
              "       [-1.99716479e-01],\n",
              "       [ 4.41757977e-01],\n",
              "       [ 8.09634998e-02],\n",
              "       [ 6.49692237e-01],\n",
              "       [ 3.56978059e-01],\n",
              "       [-3.04133259e-02],\n",
              "       [-1.92346796e-01],\n",
              "       [ 5.23876011e-01],\n",
              "       [-1.24827974e-01],\n",
              "       [ 1.21460110e-01],\n",
              "       [ 4.34424639e-01],\n",
              "       [-2.95807362e-01],\n",
              "       [-8.71308967e-02],\n",
              "       [-1.14430435e-01],\n",
              "       [-2.98739195e-01],\n",
              "       [-2.85258353e-01],\n",
              "       [-1.56841591e-01],\n",
              "       [-3.59564900e-01],\n",
              "       [ 1.43094361e-02],\n",
              "       [-4.22193050e-01],\n",
              "       [-2.85659969e-01],\n",
              "       [-7.87619129e-02],\n",
              "       [ 5.25265872e-01],\n",
              "       [-2.46103525e-01],\n",
              "       [-1.65957138e-01],\n",
              "       [ 2.37328231e-01],\n",
              "       [ 2.50589669e-01],\n",
              "       [-4.93051350e-01],\n",
              "       [-3.80109787e-01],\n",
              "       [ 5.85097015e-01],\n",
              "       [-2.23876432e-01],\n",
              "       [-3.85779619e-01],\n",
              "       [-2.81866670e-01],\n",
              "       [-2.91329086e-01],\n",
              "       [-3.93563539e-01],\n",
              "       [ 6.67265281e-02],\n",
              "       [ 2.90141910e-01],\n",
              "       [ 1.02713197e-01],\n",
              "       [ 9.57322344e-02],\n",
              "       [ 1.63832515e-01],\n",
              "       [-3.03698242e-01],\n",
              "       [-1.84322938e-01],\n",
              "       [ 1.67713031e-01],\n",
              "       [ 2.33463824e-01],\n",
              "       [-5.84577285e-02],\n",
              "       [ 3.51819038e-01],\n",
              "       [-1.51714206e-01],\n",
              "       [-2.83487856e-01],\n",
              "       [-1.98490918e-04],\n",
              "       [ 3.66304636e-01],\n",
              "       [-2.67702162e-01],\n",
              "       [-3.48517925e-01],\n",
              "       [-2.83486068e-01],\n",
              "       [-1.80856705e-01],\n",
              "       [-2.16915116e-01],\n",
              "       [-1.92927748e-01],\n",
              "       [-2.23530963e-01],\n",
              "       [-4.25008059e-01],\n",
              "       [-8.15700218e-02],\n",
              "       [ 4.99766953e-02],\n",
              "       [ 4.65236269e-02],\n",
              "       [ 5.81052244e-01],\n",
              "       [-3.41769934e-01],\n",
              "       [-2.46326804e-01],\n",
              "       [-3.24761331e-01],\n",
              "       [-3.52140129e-01],\n",
              "       [ 7.11990118e-01],\n",
              "       [ 7.19278771e-03],\n",
              "       [-3.38467091e-01],\n",
              "       [-5.78916725e-03],\n",
              "       [-2.58870572e-01],\n",
              "       [ 6.26132905e-01],\n",
              "       [ 9.70907733e-02],\n",
              "       [ 3.76085043e-01],\n",
              "       [-1.44076226e-02],\n",
              "       [-5.55422604e-01],\n",
              "       [ 1.23249916e-02],\n",
              "       [-2.81772465e-01],\n",
              "       [-1.00283779e-01],\n",
              "       [-1.14985861e-01],\n",
              "       [-2.27197737e-01],\n",
              "       [-2.60403693e-01],\n",
              "       [ 2.77616858e-01],\n",
              "       [ 3.10289353e-01],\n",
              "       [ 1.02510341e-01],\n",
              "       [-3.45936656e-01],\n",
              "       [ 6.38278306e-01],\n",
              "       [-3.97075117e-01],\n",
              "       [-2.79027224e-01],\n",
              "       [-4.08406071e-02],\n",
              "       [ 2.54124135e-01],\n",
              "       [ 1.81997418e-02],\n",
              "       [-2.63231277e-01],\n",
              "       [-4.19909716e-01],\n",
              "       [-1.66691765e-02],\n",
              "       [-4.04563367e-01],\n",
              "       [ 2.15440094e-01],\n",
              "       [-2.22388744e-01],\n",
              "       [-1.87564492e-01]], dtype=float32)"
            ]
          },
          "metadata": {},
          "execution_count": 415
        }
      ]
    },
    {
      "cell_type": "code",
      "source": [
        "y_test_p"
      ],
      "metadata": {
        "colab": {
          "base_uri": "https://localhost:8080/"
        },
        "id": "TI8dXUGv5_58",
        "outputId": "64b30422-273e-4d45-df6e-b701e737b38a"
      },
      "execution_count": null,
      "outputs": [
        {
          "output_type": "execute_result",
          "data": {
            "text/plain": [
              "array([[-0.45444444],\n",
              "       [-0.45444444],\n",
              "       [-0.28066667],\n",
              "       [-0.131875  ],\n",
              "       [-0.58681818],\n",
              "       [-0.45444444],\n",
              "       [-0.45444444],\n",
              "       [-0.45444444],\n",
              "       [-0.45444444],\n",
              "       [-0.56461538],\n",
              "       [-0.56461538],\n",
              "       [ 0.70315789],\n",
              "       [-0.131875  ],\n",
              "       [-0.131875  ],\n",
              "       [-0.58681818],\n",
              "       [ 0.46214286],\n",
              "       [-0.56461538],\n",
              "       [-0.131875  ],\n",
              "       [ 0.46214286],\n",
              "       [-0.131875  ],\n",
              "       [-0.58681818],\n",
              "       [-0.28066667],\n",
              "       [ 0.46214286],\n",
              "       [-0.131875  ],\n",
              "       [-0.28066667],\n",
              "       [-0.45444444],\n",
              "       [-0.45444444],\n",
              "       [-0.58681818],\n",
              "       [-0.56461538],\n",
              "       [-0.45444444],\n",
              "       [-0.45444444],\n",
              "       [-0.45444444],\n",
              "       [-0.45444444],\n",
              "       [-0.131875  ],\n",
              "       [-0.45444444],\n",
              "       [-0.131875  ],\n",
              "       [-0.45444444],\n",
              "       [ 0.70315789],\n",
              "       [-0.56461538],\n",
              "       [-0.45444444],\n",
              "       [-0.45444444],\n",
              "       [-0.45444444],\n",
              "       [-0.45444444],\n",
              "       [ 0.46214286],\n",
              "       [-0.56461538],\n",
              "       [-0.45444444],\n",
              "       [-0.45444444],\n",
              "       [-0.45444444],\n",
              "       [-0.56461538],\n",
              "       [-0.58681818],\n",
              "       [-0.28066667],\n",
              "       [-0.56461538],\n",
              "       [-0.131875  ],\n",
              "       [ 0.46214286],\n",
              "       [-0.28066667],\n",
              "       [-0.45444444],\n",
              "       [-0.45444444],\n",
              "       [ 0.46214286],\n",
              "       [-0.28066667],\n",
              "       [-0.45444444],\n",
              "       [-0.45444444],\n",
              "       [ 0.46214286],\n",
              "       [-0.28066667],\n",
              "       [-0.28066667],\n",
              "       [ 0.46214286],\n",
              "       [-0.58681818],\n",
              "       [-0.58681818],\n",
              "       [-0.131875  ],\n",
              "       [-0.131875  ],\n",
              "       [ 0.70315789],\n",
              "       [-0.45444444],\n",
              "       [-0.56461538],\n",
              "       [-0.58681818],\n",
              "       [-0.131875  ],\n",
              "       [ 0.70315789],\n",
              "       [-0.56461538],\n",
              "       [-0.58681818],\n",
              "       [ 0.46214286],\n",
              "       [-0.56461538],\n",
              "       [ 0.70315789],\n",
              "       [-0.131875  ],\n",
              "       [ 0.70315789],\n",
              "       [-0.45444444],\n",
              "       [-0.58681818],\n",
              "       [ 0.70315789],\n",
              "       [-0.45444444],\n",
              "       [-0.56461538],\n",
              "       [-0.45444444],\n",
              "       [-0.131875  ],\n",
              "       [-0.56461538],\n",
              "       [ 0.70315789],\n",
              "       [ 0.46214286],\n",
              "       [-0.28066667],\n",
              "       [-0.56461538],\n",
              "       [ 0.70315789],\n",
              "       [-0.45444444],\n",
              "       [-0.45444444],\n",
              "       [ 0.46214286],\n",
              "       [ 0.46214286],\n",
              "       [-0.45444444],\n",
              "       [-0.28066667],\n",
              "       [-0.58681818],\n",
              "       [-0.28066667],\n",
              "       [-0.58681818],\n",
              "       [-0.131875  ],\n",
              "       [-0.58681818],\n",
              "       [-0.131875  ]])"
            ]
          },
          "metadata": {},
          "execution_count": 413
        }
      ]
    },
    {
      "cell_type": "code",
      "source": [
        "max(predict)"
      ],
      "metadata": {
        "colab": {
          "base_uri": "https://localhost:8080/"
        },
        "id": "N3jAEqFaBhoh",
        "outputId": "3cdbf2ea-af4a-486b-e2f4-687a076756f7"
      },
      "execution_count": null,
      "outputs": [
        {
          "output_type": "execute_result",
          "data": {
            "text/plain": [
              "array([0.7583467], dtype=float32)"
            ]
          },
          "metadata": {},
          "execution_count": 232
        }
      ]
    },
    {
      "cell_type": "code",
      "source": [
        "pred_d = predict"
      ],
      "metadata": {
        "id": "LbLKWEolC7O0"
      },
      "execution_count": null,
      "outputs": []
    },
    {
      "cell_type": "code",
      "source": [
        "pred_a = predict"
      ],
      "metadata": {
        "id": "PHOGiHZqCkTv"
      },
      "execution_count": null,
      "outputs": []
    },
    {
      "cell_type": "code",
      "source": [
        "pred_p = predict"
      ],
      "metadata": {
        "id": "iJrZtn408lsb"
      },
      "execution_count": null,
      "outputs": []
    },
    {
      "cell_type": "code",
      "source": [
        "pred_p_1 = predict # 실수로 마지막 check 포인트 기준으로 함 아마 과적합"
      ],
      "metadata": {
        "id": "AqcdnGi968iM"
      },
      "execution_count": null,
      "outputs": []
    },
    {
      "cell_type": "code",
      "source": [
        "pre = []\n",
        "for i in range(len(pred_p)):\n",
        "  pr = []\n",
        "  pr.extend(pred_p[i].tolist())\n",
        "  pr.extend(pred_a[i].tolist())\n",
        "  pr.extend(pred_d[i].tolist())\n",
        "  pre.append(pr)\n",
        "pre"
      ],
      "metadata": {
        "colab": {
          "base_uri": "https://localhost:8080/"
        },
        "id": "C0atR2QmDzRu",
        "outputId": "a942a130-d6ac-470c-da51-46c5d7aa0e8e"
      },
      "execution_count": null,
      "outputs": [
        {
          "output_type": "execute_result",
          "data": {
            "text/plain": [
              "[[-0.31763267517089844, -0.13487394154071808, -0.13487394154071808],\n",
              " [0.17840330302715302, -0.13037699460983276, -0.13037699460983276],\n",
              " [-0.43831169605255127, 0.12053760141134262, 0.12053760141134262],\n",
              " [0.1016537994146347, -0.12950284779071808, -0.12950284779071808],\n",
              " [0.447232186794281, 0.30271390080451965, 0.30271390080451965],\n",
              " [-0.22738215327262878, 0.49412935972213745, 0.49412935972213745],\n",
              " [0.02651042863726616, -0.1229613646864891, -0.1229613646864891],\n",
              " [-0.22634120285511017, 0.43956372141838074, 0.43956372141838074],\n",
              " [-0.2778710126876831, 0.41501733660697937, 0.41501733660697937],\n",
              " [-0.21490250527858734, 0.42528510093688965, 0.42528510093688965],\n",
              " [-0.11171342432498932, 0.4712715744972229, 0.4712715744972229],\n",
              " [0.2969433665275574, -0.17238101363182068, -0.17238101363182068],\n",
              " [-0.007814336568117142, 0.4770524501800537, 0.4770524501800537],\n",
              " [-0.1429116427898407, 0.4801791310310364, 0.4801791310310364],\n",
              " [0.10060781240463257, -0.03010731376707554, -0.03010731376707554],\n",
              " [-0.3770281672477722, 0.4408091902732849, 0.4408091902732849],\n",
              " [-0.1661735475063324, 0.4143860936164856, 0.4143860936164856],\n",
              " [-0.27428776025772095, -0.23678459227085114, -0.23678459227085114],\n",
              " [0.1253691464662552, 0.4212249517440796, 0.4212249517440796],\n",
              " [0.002028621733188629, -0.16052331030368805, -0.16052331030368805],\n",
              " [-0.05374237149953842, 0.08129547536373138, 0.08129547536373138],\n",
              " [0.0013696029782295227, -0.1931917816400528, -0.1931917816400528],\n",
              " [0.20813246071338654, -0.07681728154420853, -0.07681728154420853],\n",
              " [-0.2551741600036621, 0.31383562088012695, 0.31383562088012695],\n",
              " [-0.1015782356262207, 0.45717260241508484, 0.45717260241508484],\n",
              " [0.04418683797121048, -0.022562244907021523, -0.022562244907021523],\n",
              " [-0.2872740626335144, 0.3770774304866791, 0.3770774304866791],\n",
              " [-0.07015909999608994, 0.4489615857601166, 0.4489615857601166],\n",
              " [-0.22608225047588348, 0.40683650970458984, 0.40683650970458984],\n",
              " [-0.2555738687515259, 0.35623684525489807, 0.35623684525489807],\n",
              " [-0.2288033813238144, 0.41676416993141174, 0.41676416993141174],\n",
              " [-0.22421255707740784, 0.2403547465801239, 0.2403547465801239],\n",
              " [0.27366572618484497, -0.1571977585554123, -0.1571977585554123],\n",
              " [-0.1200350970029831, 0.47304677963256836, 0.47304677963256836],\n",
              " [-0.36306196451187134, -0.057102762162685394, -0.057102762162685394],\n",
              " [0.23558057844638824, -0.13971291482448578, -0.13971291482448578],\n",
              " [-0.44347697496414185, 0.42168334126472473, 0.42168334126472473],\n",
              " [-0.5029246807098389, -0.0774092897772789, -0.0774092897772789],\n",
              " [-0.2631291151046753, -0.20465604960918427, -0.20465604960918427],\n",
              " [0.35542625188827515, -0.13163615763187408, -0.13163615763187408],\n",
              " [0.18570391833782196, 0.3255619704723358, 0.3255619704723358],\n",
              " [0.0959150642156601, 0.35432490706443787, 0.35432490706443787],\n",
              " [-0.022210046648979187, 0.1993274837732315, 0.1993274837732315],\n",
              " [-0.273988276720047, -0.15407635271549225, -0.15407635271549225],\n",
              " [-0.025128977373242378, 0.26540911197662354, 0.26540911197662354],\n",
              " [-0.32930248975753784, -0.10057450085878372, -0.10057450085878372],\n",
              " [0.3639146089553833, -0.07622630894184113, -0.07622630894184113],\n",
              " [0.3855241537094116, -0.13100728392601013, -0.13100728392601013],\n",
              " [0.07788624614477158, 0.3991721272468567, 0.3991721272468567],\n",
              " [-0.07603377848863602, 0.4533397853374481, 0.4533397853374481],\n",
              " [-0.26045680046081543, -0.23133890330791473, -0.23133890330791473],\n",
              " [-0.2633413076400757, 0.20500828325748444, 0.20500828325748444],\n",
              " [0.1330275535583496, 0.39294901490211487, 0.39294901490211487],\n",
              " [-0.19286908209323883, 0.4155404269695282, 0.4155404269695282],\n",
              " [-0.26314577460289, -0.18190918862819672, -0.18190918862819672],\n",
              " [-0.5129112601280212, -0.18203066289424896, -0.18203066289424896],\n",
              " [-0.1960477977991104, 0.1217837780714035, 0.1217837780714035],\n",
              " [-0.32075774669647217, -0.1592961996793747, -0.1592961996793747],\n",
              " [0.2812751531600952, -0.21168196201324463, -0.21168196201324463],\n",
              " [-0.35409003496170044, 0.34524253010749817, 0.34524253010749817],\n",
              " [-0.15558624267578125, -0.07940404862165451, -0.07940404862165451],\n",
              " [-0.24101988971233368, 0.2135997861623764, 0.2135997861623764],\n",
              " [-0.3038042187690735, 0.46056458353996277, 0.46056458353996277],\n",
              " [0.25364285707473755, -0.11251982301473618, -0.11251982301473618],\n",
              " [-0.446557879447937, 0.2438019961118698, 0.2438019961118698],\n",
              " [0.11636488139629364, 0.30814439058303833, 0.30814439058303833],\n",
              " [-0.24972452223300934, 0.4364144802093506, 0.4364144802093506],\n",
              " [-0.14161717891693115, 0.33039650321006775, 0.33039650321006775],\n",
              " [-0.258447527885437, 0.3402974605560303, 0.3402974605560303],\n",
              " [0.3114003539085388, 0.39034727215766907, 0.39034727215766907],\n",
              " [-0.3523179292678833, 0.504641056060791, 0.504641056060791],\n",
              " [-0.5354839563369751, -0.14081840217113495, -0.14081840217113495],\n",
              " [-0.3099571466445923, 0.25070425868034363, 0.25070425868034363],\n",
              " [0.2447398155927658, -0.15899528563022614, -0.15899528563022614],\n",
              " [-0.4163544774055481, -0.12563635408878326, -0.12563635408878326],\n",
              " [0.4964641332626343, 0.4135521352291107, 0.4135521352291107],\n",
              " [0.2923806309700012, -0.08948082476854324, -0.08948082476854324],\n",
              " [0.28107506036758423, 0.3900536298751831, 0.3900536298751831],\n",
              " [-0.16213969886302948, 0.42729270458221436, 0.42729270458221436],\n",
              " [-0.1923142522573471, 0.3176601529121399, 0.3176601529121399],\n",
              " [-0.3912571668624878, -0.06174506992101669, -0.06174506992101669],\n",
              " [-0.250707745552063, 0.27580466866493225, 0.27580466866493225],\n",
              " [-0.2551368474960327, 0.025878284126520157, 0.025878284126520157],\n",
              " [0.006681084632873535, 0.3120116591453552, 0.3120116591453552],\n",
              " [0.2629755139350891, -0.15998239815235138, -0.15998239815235138],\n",
              " [0.4265657067298889, 0.07848411053419113, 0.07848411053419113],\n",
              " [-0.38852745294570923, -0.1550975739955902, -0.1550975739955902],\n",
              " [-0.267450213432312, 0.493696391582489, 0.493696391582489],\n",
              " [-0.229709193110466, -0.10907336324453354, -0.10907336324453354],\n",
              " [0.5513336658477783, 0.4160424470901489, 0.4160424470901489],\n",
              " [-0.2303747981786728, 0.4584433436393738, 0.4584433436393738],\n",
              " [-0.28124290704727173, 0.5016908049583435, 0.5016908049583435],\n",
              " [-0.0046345945447683334, 0.4638798236846924, 0.4638798236846924],\n",
              " [-0.0024383924901485443, 0.20504674315452576, 0.20504674315452576],\n",
              " [-0.048379093408584595, -0.25911977887153625, -0.25911977887153625],\n",
              " [-0.23122340440750122, 0.24375055730342865, 0.24375055730342865],\n",
              " [-0.2198428362607956, 0.507641077041626, 0.507641077041626],\n",
              " [-0.23654155433177948, 0.42145296931266785, 0.42145296931266785],\n",
              " [0.10805518925189972, -0.14721712470054626, -0.14721712470054626],\n",
              " [-0.24084965884685516, 0.45734038949012756, 0.45734038949012756],\n",
              " [-0.26391321420669556, -0.07272305339574814, -0.07272305339574814],\n",
              " [0.23583157360553741, 0.23334740102291107, 0.23334740102291107],\n",
              " [0.42234325408935547, 0.355837881565094, 0.355837881565094],\n",
              " [0.3676443099975586, 0.4243459105491638, 0.4243459105491638],\n",
              " [0.04124616086483002, -0.1271611601114273, -0.1271611601114273],\n",
              " [-0.13722999393939972, -0.15564920008182526, -0.15564920008182526],\n",
              " [-0.4262746572494507, -0.11155133694410324, -0.11155133694410324]]"
            ]
          },
          "metadata": {},
          "execution_count": 74
        }
      ]
    },
    {
      "cell_type": "code",
      "source": [
        "import pickle\n",
        "\n",
        "with open(\"/content/drive/MyDrive/SER_0817/EMODB_CNN_MLP/nsingle_hubor_cnnregressor_smo.pickle\",\"wb\") as f:\n",
        "    pickle.dump(pre, f)"
      ],
      "metadata": {
        "id": "Lne34_zbDzPN"
      },
      "execution_count": null,
      "outputs": []
    },
    {
      "cell_type": "code",
      "source": [
        "import math\n",
        "def decoding(predict_value,db):\n",
        "\n",
        "  dec = []\n",
        "\n",
        "  for i in range(len(predict_value)):\n",
        "    score = []\n",
        "    decoding_label = ''\n",
        "    anger_score = math.sqrt((((db[db['term']=='anger']['P']).values).tolist()[0] - predict_value[i][0])**2 + (((db[db['term']=='anger']['A']).values).tolist()[0] - predict_value[i][1])**2 + (((db[db['term']=='anger']['D']).values).tolist()[0] - predict_value[i][2])**2)\n",
        "    boredom_score = math.sqrt((((db[db['term']=='boredom']['P']).values).tolist()[0] - predict_value[i][0])**2 + (((db[db['term']=='anger']['A']).values).tolist()[0] - predict_value[i][1])**2 + (((db[db['term']=='anger']['D']).values).tolist()[0] - predict_value[i][2])**2)\n",
        "    disgust_score = math.sqrt((((db[db['term']=='disgust']['P']).values).tolist()[0] - predict_value[i][0])**2 + (((db[db['term']=='anger']['A']).values).tolist()[0] - predict_value[i][1])**2 + (((db[db['term']=='anger']['D']).values).tolist()[0] - predict_value[i][2])**2)\n",
        "    fear_score = math.sqrt((((db[db['term']=='anxiety_fear']['P']).values).tolist()[0] - predict_value[i][0])**2 + (((db[db['term']=='anger']['A']).values).tolist()[0] - predict_value[i][1])**2 + (((db[db['term']=='anger']['D']).values).tolist()[0] - predict_value[i][2])**2)\n",
        "    happiness_score = math.sqrt((((db[db['term']=='happiness']['P']).values).tolist()[0] - predict_value[i][0])**2 + (((db[db['term']=='anger']['A']).values).tolist()[0] - predict_value[i][1])**2 + (((db[db['term']=='anger']['D']).values).tolist()[0] - predict_value[i][2])**2)\n",
        "    sadness_score = math.sqrt((((db[db['term']=='sadness']['P']).values).tolist()[0] - predict_value[i][0])**2 + (((db[db['term']=='anger']['A']).values).tolist()[0] - predict_value[i][1])**2 + (((db[db['term']=='anger']['D']).values).tolist()[0] - predict_value[i][2])**2)\n",
        "    neutral_score = math.sqrt((((db[db['term']=='neutral']['P']).values).tolist()[0] - predict_value[i][0])**2 + (((db[db['term']=='anger']['A']).values).tolist()[0] - predict_value[i][1])**2 + (((db[db['term']=='anger']['D']).values).tolist()[0] - predict_value[i][2])**2)\n",
        "\n",
        "    score = [anger_score, boredom_score, disgust_score, fear_score, happiness_score, sadness_score, neutral_score]\n",
        "\n",
        "    final_score = min(score)\n",
        "\n",
        "\n",
        "    if final_score == anger_score:\n",
        "      decoding_label ='anger'\n",
        "    elif final_score == boredom_score:\n",
        "      decoding_label ='boredom'\n",
        "    elif final_score == disgust_score:\n",
        "      decoding_label ='disgust'\n",
        "    elif final_score == fear_score:\n",
        "      decoding_label ='fear'\n",
        "    elif final_score == happiness_score:\n",
        "      decoding_label ='happiness'\n",
        "    elif final_score == sadness_score:\n",
        "      decoding_label ='sadness'\n",
        "    elif final_score == neutral_score:\n",
        "      decoding_label ='neutral'\n",
        "    else:\n",
        "      continue\n",
        "\n",
        "    dec.append(decoding_label)\n",
        "\n",
        "  return dec"
      ],
      "metadata": {
        "id": "6YAIZcy0DzM1"
      },
      "execution_count": null,
      "outputs": []
    },
    {
      "cell_type": "code",
      "source": [
        "pred_dec = decoding(pre, PAD_db)\n",
        "pred_dec"
      ],
      "metadata": {
        "id": "iLPRWzHMDzLQ"
      },
      "execution_count": null,
      "outputs": []
    },
    {
      "cell_type": "code",
      "source": [
        "y_test"
      ],
      "metadata": {
        "id": "Mg2ytLZHDzI_"
      },
      "execution_count": null,
      "outputs": []
    },
    {
      "cell_type": "code",
      "source": [
        "le = LabelEncoder( ).fit(y_test)\n",
        "tr = le.transform(y_test)\n",
        "pr = le.transform(pred_dec)\n"
      ],
      "metadata": {
        "id": "n4mkwzYqDzDy"
      },
      "execution_count": null,
      "outputs": []
    },
    {
      "cell_type": "code",
      "source": [
        "from sklearn.metrics import accuracy_score\n",
        "from sklearn.metrics import precision_recall_fscore_support\n",
        "\n",
        "## performance metrics\n",
        "accuracy = accuracy_score(tr, pr)\n",
        "\n",
        "precision, recall, fscore, support = \\\n",
        "    precision_recall_fscore_support(tr, pr)\n",
        "\n",
        "print('Accuracy   : %.3f' %accuracy)\n",
        "print('Precision  : %.3f' %precision[0])\n",
        "print('Recall     : %.3f' %recall[0])\n",
        "print('Specificyty: %.3f' %recall[1])\n",
        "print('F1-Score   : %.3f' %fscore[0])"
      ],
      "metadata": {
        "id": "ytpSwawyHRWl",
        "colab": {
          "base_uri": "https://localhost:8080/"
        },
        "outputId": "91876c8d-8eb2-48e0-968f-202c2906541c"
      },
      "execution_count": null,
      "outputs": [
        {
          "output_type": "stream",
          "name": "stdout",
          "text": [
            "Accuracy   : 0.206\n",
            "Precision  : 0.111\n",
            "Recall     : 0.037\n",
            "Specificyty: 0.455\n",
            "F1-Score   : 0.056\n"
          ]
        },
        {
          "output_type": "stream",
          "name": "stderr",
          "text": [
            "/usr/local/lib/python3.10/dist-packages/sklearn/metrics/_classification.py:1344: UndefinedMetricWarning: Precision and F-score are ill-defined and being set to 0.0 in labels with no predicted samples. Use `zero_division` parameter to control this behavior.\n",
            "  _warn_prf(average, modifier, msg_start, len(result))\n"
          ]
        }
      ]
    },
    {
      "cell_type": "code",
      "source": [],
      "metadata": {
        "id": "_GjX-m02FO15"
      },
      "execution_count": null,
      "outputs": []
    },
    {
      "cell_type": "code",
      "source": [],
      "metadata": {
        "id": "biQ3htClFOzs"
      },
      "execution_count": null,
      "outputs": []
    },
    {
      "cell_type": "code",
      "source": [
        "######################"
      ],
      "metadata": {
        "id": "cZZQP16FHRNT"
      },
      "execution_count": null,
      "outputs": []
    },
    {
      "cell_type": "code",
      "source": [
        "from sklearn.metrics import accuracy_score\n",
        "from sklearn.metrics import precision_recall_fscore_support\n",
        "\n",
        "## performance metrics\n",
        "accuracy = accuracy_score(tr, pr)\n",
        "\n",
        "precision, recall, fscore, support = \\\n",
        "    precision_recall_fscore_support(tr, pr)\n",
        "\n",
        "print('Accuracy   : %.3f' %accuracy)\n",
        "print('Precision  : %.3f' %precision[0])\n",
        "print('Recall     : %.3f' %recall[0])\n",
        "print('Specificyty: %.3f' %recall[1])\n",
        "print('F1-Score   : %.3f' %fscore[0])"
      ],
      "metadata": {
        "colab": {
          "base_uri": "https://localhost:8080/"
        },
        "id": "944E3PpRFyen",
        "outputId": "6fb9058f-808d-44b1-932e-66afe78e86f5"
      },
      "execution_count": null,
      "outputs": [
        {
          "output_type": "stream",
          "name": "stdout",
          "text": [
            "Accuracy   : 0.252\n",
            "Precision  : 1.000\n",
            "Recall     : 0.150\n",
            "Specificyty: 0.818\n",
            "F1-Score   : 0.261\n"
          ]
        },
        {
          "output_type": "stream",
          "name": "stderr",
          "text": [
            "/usr/local/lib/python3.10/dist-packages/sklearn/metrics/_classification.py:1344: UndefinedMetricWarning: Precision and F-score are ill-defined and being set to 0.0 in labels with no predicted samples. Use `zero_division` parameter to control this behavior.\n",
            "  _warn_prf(average, modifier, msg_start, len(result))\n"
          ]
        }
      ]
    },
    {
      "cell_type": "code",
      "source": [
        "import pickle\n",
        "\n",
        "with open(\"/content/drive/MyDrive/SER_0817/EMODB_cnn_lstm/nsingle_hubor.pickle\",\"rb\") as f:\n",
        "    pre_2 = pickle.load(f)"
      ],
      "metadata": {
        "id": "eA5cqr_pG2l5"
      },
      "execution_count": null,
      "outputs": []
    },
    {
      "cell_type": "code",
      "source": [
        "pred_dec_2 = decoding(pre_2, PAD_db)\n",
        "pred_dec_2"
      ],
      "metadata": {
        "id": "lQ-t2XG-G2jd"
      },
      "execution_count": null,
      "outputs": []
    },
    {
      "cell_type": "code",
      "source": [
        "y_test_2 = [[ 0.46214286, -0.04571429, -0.08],\n",
        "       [-0.45444444,  0.55111111,  0.18222222],\n",
        "       [-0.58681818, -0.13727273, -0.325     ],\n",
        "       [ 0.70315789,  0.33526316,  0.41894737],\n",
        "       [-0.56461538,  0.43692308, -0.35923077],\n",
        "       [ 0.46214286, -0.04571429, -0.08      ],\n",
        "       [ 0.70315789,  0.33526316,  0.41894737],\n",
        "       [-0.58681818, -0.13727273, -0.325     ],\n",
        "       [-0.45444444,  0.55111111,  0.18222222],\n",
        "       [-0.131875  , -0.35125   , -0.194375  ],\n",
        "       [-0.45444444,  0.55111111,  0.18222222],\n",
        "       [ 0.46214286, -0.04571429, -0.08      ],\n",
        "       [ 0.70315789,  0.33526316,  0.41894737],\n",
        "       [-0.45444444,  0.55111111,  0.18222222],\n",
        "       [ 0.70315789,  0.33526316,  0.41894737],\n",
        "       [-0.45444444,  0.55111111,  0.18222222],\n",
        "       [-0.45444444,  0.55111111,  0.18222222],\n",
        "       [-0.45444444,  0.55111111,  0.18222222],\n",
        "       [-0.56461538,  0.43692308, -0.35923077],\n",
        "       [-0.28066667,  0.27533333,  0.18666667],\n",
        "       [-0.56461538,  0.43692308, -0.35923077],\n",
        "       [-0.45444444,  0.55111111,  0.18222222],\n",
        "       [-0.58681818, -0.13727273, -0.325     ],\n",
        "       [-0.45444444,  0.55111111,  0.18222222],\n",
        "       [ 0.46214286, -0.04571429, -0.08      ],\n",
        "       [-0.45444444,  0.55111111,  0.18222222],\n",
        "       [-0.56461538,  0.43692308, -0.35923077],\n",
        "       [-0.131875  , -0.35125   , -0.194375  ],\n",
        "       [-0.58681818, -0.13727273, -0.325     ],\n",
        "       [-0.45444444,  0.55111111,  0.18222222],\n",
        "       [-0.131875  , -0.35125   , -0.194375  ],\n",
        "       [-0.131875  , -0.35125   , -0.194375  ],\n",
        "       [-0.131875  , -0.35125   , -0.194375  ],\n",
        "       [-0.45444444,  0.55111111,  0.18222222],\n",
        "       [-0.58681818, -0.13727273, -0.325     ],\n",
        "       [-0.131875  , -0.35125   , -0.194375  ],\n",
        "       [ 0.46214286, -0.04571429, -0.08      ],\n",
        "       [-0.28066667,  0.27533333,  0.18666667],\n",
        "       [-0.28066667,  0.27533333,  0.18666667],\n",
        "       [ 0.70315789,  0.33526316,  0.41894737],\n",
        "       [-0.45444444,  0.55111111,  0.18222222],\n",
        "       [-0.56461538,  0.43692308, -0.35923077],\n",
        "       [ 0.70315789,  0.33526316,  0.41894737],\n",
        "       [-0.131875  , -0.35125   , -0.194375  ],\n",
        "       [-0.45444444,  0.55111111,  0.18222222],\n",
        "       [-0.45444444,  0.55111111,  0.18222222],\n",
        "       [-0.45444444,  0.55111111,  0.18222222],\n",
        "       [-0.58681818, -0.13727273, -0.325     ],\n",
        "       [-0.56461538,  0.43692308, -0.35923077],\n",
        "       [-0.45444444,  0.55111111,  0.18222222],\n",
        "       [-0.56461538,  0.43692308, -0.35923077],\n",
        "       [ 0.70315789,  0.33526316,  0.41894737],\n",
        "       [ 0.46214286, -0.04571429, -0.08      ],\n",
        "       [-0.45444444,  0.55111111,  0.18222222]]"
      ],
      "metadata": {
        "id": "QfzabHI5IJ-p"
      },
      "execution_count": null,
      "outputs": []
    },
    {
      "cell_type": "code",
      "source": [
        "y_test_2 = np.array(y_test_2)\n",
        "y_test_2"
      ],
      "metadata": {
        "id": "CyqrbPmVI9uB"
      },
      "execution_count": null,
      "outputs": []
    },
    {
      "cell_type": "code",
      "source": [
        "y_test_2 = decoding(y_test_2, PAD_db)\n",
        "y_test_2"
      ],
      "metadata": {
        "id": "7zgPp_UjJM4O"
      },
      "execution_count": null,
      "outputs": []
    },
    {
      "cell_type": "code",
      "source": [
        "le_2 = LabelEncoder( ).fit(y_test_2)\n",
        "tr_1 = le_2.transform(y_test_2)\n",
        "pr_1 = le_2.transform(pred_dec_2)"
      ],
      "metadata": {
        "id": "5AN-SsptG2dq"
      },
      "execution_count": null,
      "outputs": []
    },
    {
      "cell_type": "code",
      "source": [
        "from sklearn.metrics import accuracy_score\n",
        "from sklearn.metrics import precision_recall_fscore_support\n",
        "\n",
        "## performance metrics\n",
        "accuracy = accuracy_score(tr_1, pr_1)\n",
        "\n",
        "precision, recall, fscore, support = \\\n",
        "    precision_recall_fscore_support(tr_1, pr_1)\n",
        "\n",
        "print('Accuracy   : %.3f' %accuracy) # (102+164)/(102+16+3+164)\n",
        "print('Precision  : %.3f' %precision[0]) # 102/(102+3)\n",
        "print('Recall     : %.3f' %recall[0]) # 102/(102+16)\n",
        "print('Specificyty: %.3f' %recall[1]) # 164/(3+164)\n",
        "print('F1-Score   : %.3f' %fscore[0]) # 2/(1/precision + 1/recall) = 2/(1/0.971+1/0.864)"
      ],
      "metadata": {
        "colab": {
          "base_uri": "https://localhost:8080/"
        },
        "id": "UHxkVNi-Hssh",
        "outputId": "46a472ef-f8d2-4495-b2d2-62ea9f780534"
      },
      "execution_count": null,
      "outputs": [
        {
          "output_type": "stream",
          "name": "stdout",
          "text": [
            "Accuracy   : 0.185\n",
            "Precision  : 0.429\n",
            "Recall     : 0.167\n",
            "Specificyty: 0.143\n",
            "F1-Score   : 0.240\n"
          ]
        },
        {
          "output_type": "stream",
          "name": "stderr",
          "text": [
            "/usr/local/lib/python3.10/dist-packages/sklearn/metrics/_classification.py:1344: UndefinedMetricWarning: Precision and F-score are ill-defined and being set to 0.0 in labels with no predicted samples. Use `zero_division` parameter to control this behavior.\n",
            "  _warn_prf(average, modifier, msg_start, len(result))\n"
          ]
        }
      ]
    },
    {
      "cell_type": "code",
      "source": [],
      "metadata": {
        "id": "OSjb55NwHsi7"
      },
      "execution_count": null,
      "outputs": []
    },
    {
      "cell_type": "markdown",
      "source": [
        "----------"
      ],
      "metadata": {
        "id": "vfv6Rov4FSTZ"
      }
    },
    {
      "cell_type": "code",
      "source": [
        "#PRINT LOSS AND ACCURACY PERCENTAGE ON TEST SET\n",
        "print(\"Loss of the model is - \" , model.evaluate(x_test,y_test)[0])\n",
        "print(\"Accuracy of the model is - \" , model.evaluate(x_test,y_test)[1]*100 , \"%\")"
      ],
      "metadata": {
        "colab": {
          "base_uri": "https://localhost:8080/"
        },
        "id": "mCTXVuVO0Nwd",
        "outputId": "29a8e734-8eb4-4cd0-9e4c-a5b667d4d8a7"
      },
      "execution_count": null,
      "outputs": [
        {
          "output_type": "stream",
          "name": "stdout",
          "text": [
            "4/4 [==============================] - 0s 17ms/step - loss: 1.5372 - accuracy: 0.7009\n",
            "Loss of the model is -  1.5372381210327148\n",
            "4/4 [==============================] - 0s 16ms/step - loss: 1.5372 - accuracy: 0.7009\n",
            "Accuracy of the model is -  70.09345889091492 %\n"
          ]
        }
      ]
    },
    {
      "cell_type": "code",
      "source": [
        "predictions = model.predict(x_test)\n",
        "predictions = predictions.argmax(axis=1)\n",
        "predictions = predictions.astype(int).flatten()\n",
        "predictions = (lb.inverse_transform((predictions)))\n",
        "actual = y_test.argmax(axis=1)\n",
        "actual = actual.astype(int).flatten()\n",
        "actual = (lb.inverse_transform((actual)))\n",
        "cm = confusion_matrix(actual, predictions,normalize='true')\n",
        "plt.figure(figsize = (12, 10))\n",
        "conf_matrix= pd.DataFrame(cm,columns=None)\n",
        "conf_matrix.to_csv(r'E:\\confusion_matrix.csv', index = False, header=False)\n",
        "ax = sns.heatmap(cm, linecolor='white', cmap='Blues', linewidth=1, annot=True, fmt='')\n",
        "bottom, top = ax.get_ylim()\n",
        "ax.set_ylim(bottom + 0.5, top - 0.5)\n",
        "plt.title('Confusion Matrix', size=20)\n",
        "plt.xlabel('Predicted Labels', size=14)\n",
        "plt.ylabel('Actual Labels', size=14)\n",
        "plt.savefig('Initial_Model_Confusion_Matrix.png')\n",
        "plt.show()"
      ],
      "metadata": {
        "colab": {
          "base_uri": "https://localhost:8080/",
          "height": 903
        },
        "id": "rFYSl7yl0QxV",
        "outputId": "e5ddf315-bce0-4455-e1ff-1e0719b49aa3"
      },
      "execution_count": null,
      "outputs": [
        {
          "output_type": "stream",
          "name": "stdout",
          "text": [
            "4/4 [==============================] - 0s 16ms/step\n"
          ]
        },
        {
          "output_type": "display_data",
          "data": {
            "text/plain": [
              "<Figure size 1200x1000 with 2 Axes>"
            ],
            "image/png": "[encoded data removed]"
          },
          "metadata": {}
        }
      ]
    },
    {
      "cell_type": "code",
      "source": [
        "print(classification_report(actual, predictions, target_names = ['anger','boredom','disgust','fear','happiness','neutral','sadness']))"
      ],
      "metadata": {
        "colab": {
          "base_uri": "https://localhost:8080/"
        },
        "id": "Oe9JxUK10T7e",
        "outputId": "5f7c0f11-23ab-442d-a3a5-7f04f4a76b22"
      },
      "execution_count": null,
      "outputs": [
        {
          "output_type": "stream",
          "name": "stdout",
          "text": [
            "              precision    recall  f1-score   support\n",
            "\n",
            "       anger       0.86      0.92      0.89        26\n",
            "     boredom       0.56      0.42      0.48        12\n",
            "     disgust       0.58      0.78      0.67         9\n",
            "        fear       0.58      0.67      0.62        21\n",
            "   happiness       0.71      0.67      0.69        15\n",
            "     neutral       0.70      0.44      0.54        16\n",
            "     sadness       0.70      0.88      0.78         8\n",
            "\n",
            "    accuracy                           0.69       107\n",
            "   macro avg       0.67      0.68      0.67       107\n",
            "weighted avg       0.69      0.69      0.68       107\n",
            "\n"
          ]
        }
      ]
    },
    {
      "cell_type": "code",
      "source": [
        "from imblearn.metrics import specificity_score\n",
        "s=specificity_score(actual,predictions,average='macro')\n",
        "print(s)"
      ],
      "metadata": {
        "colab": {
          "base_uri": "https://localhost:8080/"
        },
        "id": "lVDwYXbY0XKG",
        "outputId": "bc703ce6-d6cd-4f06-c712-d8051c7ced4a"
      },
      "execution_count": null,
      "outputs": [
        {
          "output_type": "stream",
          "name": "stdout",
          "text": [
            "0.9477806026746267\n"
          ]
        }
      ]
    },
    {
      "cell_type": "code",
      "source": [
        "from sklearn.metrics import roc_auc_score\n",
        "y_score=model.predict(x_test)\n",
        "auc=roc_auc_score(y_test, y_score, average='macro',multi_class='ovo')\n",
        "print(auc)"
      ],
      "metadata": {
        "colab": {
          "base_uri": "https://localhost:8080/"
        },
        "id": "W3m6ifWA0Y3t",
        "outputId": "40a58518-121f-4817-bbf4-d3b271a3036e"
      },
      "execution_count": null,
      "outputs": [
        {
          "output_type": "stream",
          "name": "stdout",
          "text": [
            "4/4 [==============================] - 0s 16ms/step\n",
            "0.8955939958331643\n"
          ]
        }
      ]
    },
    {
      "cell_type": "code",
      "source": [
        "from sklearn.metrics import precision_score\n",
        "from sklearn.metrics import recall_score\n",
        "from sklearn.metrics import f1_score\n",
        "p=precision_score(actual,predictions,average='macro')\n",
        "r=recall_score(actual,predictions,average='macro')\n",
        "f=f1_score(actual,predictions,average='macro')\n",
        "print(p,r,f)"
      ],
      "metadata": {
        "colab": {
          "base_uri": "https://localhost:8080/"
        },
        "id": "wkNlrQAp0ZyB",
        "outputId": "c4d771a8-7776-4c2e-b5c3-85a68574dd41"
      },
      "execution_count": null,
      "outputs": [
        {
          "output_type": "stream",
          "name": "stdout",
          "text": [
            "0.6705215419501134 0.6804792429792429 0.6656946775173376\n"
          ]
        }
      ]
    },
    {
      "cell_type": "code",
      "source": [
        "FP = cm.sum(axis=0) - np.diag(cm)\n",
        "FN = cm.sum(axis=1) - np.diag(cm)\n",
        "TP = np.diag(cm)\n",
        "TN = cm.sum() - (FP + FN + TP)\n",
        "\n",
        "FP = FP.astype(float)\n",
        "FN = FN.astype(float)\n",
        "TP = TP.astype(float)\n",
        "TN = TN.astype(float)\n",
        "\n",
        "# Sensitivity, hit rate, recall, or true positive rate\n",
        "TPR = TP/(TP+FN)\n",
        "# Fall out or false positive rate\n",
        "FPR = FP/(FP+TN)\n",
        "print(TPR)\n",
        "print(FPR)"
      ],
      "metadata": {
        "colab": {
          "base_uri": "https://localhost:8080/"
        },
        "id": "JaaMOuLw0ax2",
        "outputId": "a82b0409-ad29-4f02-d2fa-7184593af181"
      },
      "execution_count": null,
      "outputs": [
        {
          "output_type": "stream",
          "name": "stdout",
          "text": [
            "[0.92307692 0.41666667 0.77777778 0.66666667 0.66666667 0.4375\n",
            " 0.875     ]\n",
            "[0.03809524 0.04960317 0.05154915 0.11728989 0.04232804 0.04166667\n",
            " 0.03224206]\n"
          ]
        }
      ]
    },
    {
      "cell_type": "code",
      "source": [
        "l=[]\n",
        "for i in range(100):\n",
        "  l.append(i+1)"
      ],
      "metadata": {
        "id": "RRhLlPtw0cvG"
      },
      "execution_count": null,
      "outputs": []
    },
    {
      "cell_type": "code",
      "source": [
        "from pandas import DataFrame\n",
        "C = {'epoch no':l,\n",
        "    'acc train':model_history.history['accuracy'],\n",
        "    'acc val':model_history.history['val_accuracy'],\n",
        "    'loss train':model_history.history['loss'],\n",
        "    'loss val':model_history.history['val_loss']}\n",
        "df = DataFrame(C, columns= ['epoch no','acc train','acc val','loss train','loss val'])\n",
        "export_csv = df.to_csv (r'E:\\result1.csv', index = None, header=True)\n",
        "print (df)"
      ],
      "metadata": {
        "colab": {
          "base_uri": "https://localhost:8080/"
        },
        "id": "ngRZ7J0h0d8-",
        "outputId": "b545c22c-3e71-44fc-a757-06a8b12bea4d"
      },
      "execution_count": null,
      "outputs": [
        {
          "output_type": "stream",
          "name": "stdout",
          "text": [
            "    epoch no  acc train   acc val  loss train  loss val\n",
            "0          1   0.163551  0.392523    5.429076  2.709029\n",
            "1          2   0.301402  0.345794    3.048714  2.553494\n",
            "2          3   0.357477  0.364486    2.643586  2.372539\n",
            "3          4   0.390187  0.392523    2.427150  2.364021\n",
            "4          5   0.401869  0.420561    2.289222  2.270646\n",
            "..       ...        ...       ...         ...       ...\n",
            "95        96   0.878505  0.710280    0.553373  1.516609\n",
            "96        97   0.883178  0.663551    0.581122  1.695514\n",
            "97        98   0.892523  0.747664    0.506798  1.611288\n",
            "98        99   0.922897  0.775701    0.454368  1.408566\n",
            "99       100   0.890187  0.700935    0.506819  1.537238\n",
            "\n",
            "[100 rows x 5 columns]\n"
          ]
        }
      ]
    },
    {
      "cell_type": "code",
      "source": [
        "from pandas import DataFrame\n",
        "C = {\n",
        "     'train acc':[str(model_history.history['accuracy'][99])],\n",
        "     'test acc':[str(model_history.history['val_accuracy'][99])],\n",
        "     'precision(macro)':[str(p)],\n",
        "     'recall(macro)':[str(r)],\n",
        "     'f1(macro)':[str(f)],\n",
        "     'specificity(macro)':[str(s)],\n",
        "     'AUC(macro)':[str(auc)],\n",
        "     'train time per epoch':['1 sec'],\n",
        "     'test time per epoch':['1 sec'],}\n",
        "df = DataFrame(C, columns= ['train acc','test acc','precision(macro)','recall(macro)','f1(macro)','specificity(macro)','AUC(macro)','train time per epoch','test time per epoch'])\n",
        "export_csv = df.to_csv (r'E:\\result2.csv', index = None, header=True)\n",
        "print (df)"
      ],
      "metadata": {
        "colab": {
          "base_uri": "https://localhost:8080/"
        },
        "id": "nAWBLXWl0e_G",
        "outputId": "7fa83a73-081d-4176-9a4e-0a57214b1079"
      },
      "execution_count": null,
      "outputs": [
        {
          "output_type": "stream",
          "name": "stdout",
          "text": [
            "            train acc            test acc    precision(macro)  \\\n",
            "0  0.8901869058609009  0.7009345889091492  0.6705215419501134   \n",
            "\n",
            "        recall(macro)           f1(macro)  specificity(macro)  \\\n",
            "0  0.6804792429792429  0.6656946775173376  0.9477806026746267   \n",
            "\n",
            "           AUC(macro) train time per epoch test time per epoch  \n",
            "0  0.8955939958331643                1 sec               1 sec  \n"
          ]
        }
      ]
    },
    {
      "cell_type": "code",
      "source": [
        "from pandas import DataFrame\n",
        "C = {\n",
        "     'TPR': TPR,\n",
        "     'FPR': FPR}\n",
        "df = DataFrame(C, columns= ['TPR','FPR'])\n",
        "export_csv = df.to_csv (r'E:\\result3.csv', index = None, header=True)\n",
        "print (df)"
      ],
      "metadata": {
        "colab": {
          "base_uri": "https://localhost:8080/"
        },
        "id": "1pM9K-tG0gVe",
        "outputId": "08abddf3-518c-4934-a226-cf8fddd8eae3"
      },
      "execution_count": null,
      "outputs": [
        {
          "output_type": "stream",
          "name": "stdout",
          "text": [
            "        TPR       FPR\n",
            "0  0.923077  0.038095\n",
            "1  0.416667  0.049603\n",
            "2  0.777778  0.051549\n",
            "3  0.666667  0.117290\n",
            "4  0.666667  0.042328\n",
            "5  0.437500  0.041667\n",
            "6  0.875000  0.032242\n"
          ]
        }
      ]
    },
    {
      "cell_type": "code",
      "source": [],
      "metadata": {
        "id": "TflLGv-o0hw2"
      },
      "execution_count": null,
      "outputs": []
    }
  ]
}